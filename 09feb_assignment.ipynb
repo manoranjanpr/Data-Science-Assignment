{
 "cells": [
  {
   "cell_type": "code",
   "execution_count": null,
   "id": "f3ef14fc-de18-4f36-afb4-48cc997840aa",
   "metadata": {},
   "outputs": [],
   "source": [
    "Q1, Create a vehicle class with an init method having instance variables as name_of_vehicle, max_speed and average_of_vehicle."
   ]
  },
  {
   "cell_type": "code",
   "execution_count": 2,
   "id": "74807839-8d5b-440f-b4c4-c6b4c21e4a98",
   "metadata": {},
   "outputs": [],
   "source": [
    "class vehicle:\n",
    "    def __init__(self,name_of_vehicle,max_speed,average_of_vehicle):\n",
    "        self.name_of_vehicle = name_of_vehicle\n",
    "        self.max_speed = max_speed\n",
    "        self.average_of_vehicle = average_of_vehicle\n",
    "    def details(self):\n",
    "        print(f\"\"\"{self.name_of_vehicle}\\n{self.max_speed}\\n{self.average_of_vehicle}\"\"\")"
   ]
  },
  {
   "cell_type": "code",
   "execution_count": 3,
   "id": "3da92b7e-c2fb-4753-a980-06fa3eb59716",
   "metadata": {},
   "outputs": [],
   "source": [
    "car = vehicle('tiago',150,19)"
   ]
  },
  {
   "cell_type": "code",
   "execution_count": 4,
   "id": "e38fb7b1-efa2-4178-b126-09edfb0cbf1a",
   "metadata": {},
   "outputs": [
    {
     "name": "stdout",
     "output_type": "stream",
     "text": [
      "tiago\n",
      "150\n",
      "19\n"
     ]
    }
   ],
   "source": [
    "car.details()"
   ]
  },
  {
   "cell_type": "code",
   "execution_count": null,
   "id": "0288a85d-d079-4a9d-a7f4-dbff3ca610ab",
   "metadata": {},
   "outputs": [],
   "source": [
    "Q2. Create a child class car from the vehicle class created in Que 1, which will inherit the vehicle class. Create a method named seating_capacity which takes capacity as an argument and returns the name of the vehicle and its seating capacity."
   ]
  },
  {
   "cell_type": "code",
   "execution_count": 5,
   "id": "b3d81399-31eb-4475-bf8b-8515219a7387",
   "metadata": {},
   "outputs": [],
   "source": [
    "class child_class_car(vehicle):\n",
    "    def seating_capacity(self,capacity):\n",
    "        self.capacity = capacity\n",
    "        return f\"{self.name_of_vehicle}  {self.capacity}\""
   ]
  },
  {
   "cell_type": "code",
   "execution_count": 6,
   "id": "9c56309c-e7bd-4b45-803a-f1dd5777df43",
   "metadata": {},
   "outputs": [],
   "source": [
    "child_car = child_class_car('tiago',150,19)"
   ]
  },
  {
   "cell_type": "code",
   "execution_count": 7,
   "id": "b7759b6f-d6bd-4268-94d6-7b5d85d9f7d2",
   "metadata": {},
   "outputs": [
    {
     "data": {
      "text/plain": [
       "'tiago  5'"
      ]
     },
     "execution_count": 7,
     "metadata": {},
     "output_type": "execute_result"
    }
   ],
   "source": [
    "child_car.seating_capacity(5)"
   ]
  },
  {
   "cell_type": "code",
   "execution_count": null,
   "id": "f3f4c380-5854-4d4a-8464-1af1cb2d8c0e",
   "metadata": {},
   "outputs": [],
   "source": [
    "Q3. What is multiple inheritance? Write a python code to demonstrate multiple inheritance.\n",
    "\n",
    "--> Multiple inheritance means inheriting multiple properties at a time or say multiple class at a time.\n"
   ]
  },
  {
   "cell_type": "code",
   "execution_count": 8,
   "id": "6758a2bc-374a-4211-a9ca-3076bf7071f7",
   "metadata": {},
   "outputs": [],
   "source": [
    "# Example code\n",
    "\n",
    "class class1:\n",
    "    def test1(self):\n",
    "        return (\"class1\")\n",
    "\n",
    "class class2:\n",
    "    def test2(self):\n",
    "        return (\"class2\")\n",
    "\n",
    "class class3(class1, class2):\n",
    "    def test3(self):\n",
    "        return (\"class3\")\n",
    "\n",
    "# here class3 is inheriting multiple classes(class1 and class2) at a time.\n",
    "# we can call methods of both class1 and class2 from class3 object."
   ]
  },
  {
   "cell_type": "code",
   "execution_count": 9,
   "id": "461dde1a-1c11-4557-844a-183b6624aaa7",
   "metadata": {},
   "outputs": [],
   "source": [
    "c3 = class3()"
   ]
  },
  {
   "cell_type": "code",
   "execution_count": 10,
   "id": "1769729c-c3e4-45a8-8e78-d3f55320246a",
   "metadata": {},
   "outputs": [
    {
     "name": "stdout",
     "output_type": "stream",
     "text": [
      "class1\n",
      "class2\n",
      "class3\n"
     ]
    }
   ],
   "source": [
    "print(c3.test1())\n",
    "print(c3.test2())\n",
    "print(c3.test3())"
   ]
  },
  {
   "cell_type": "code",
   "execution_count": null,
   "id": "67047e54-e1ab-46df-a21a-6c74aad059f4",
   "metadata": {},
   "outputs": [],
   "source": [
    "Q4. What are getter and setter in python? Create a class and create a getter and a setter method in this class.\n",
    "\n",
    "--> Getters: These are the methods used in Object-Oriented Programming (OOPS) which helps to access the private attributes from a class.\n",
    "\n",
    "--> Setters: These are the methods used in OOPS feature which helps to set the value to private attributes in a class."
   ]
  },
  {
   "cell_type": "code",
   "execution_count": 11,
   "id": "9c01b3a7-31ef-4b47-918c-060e0d1f9844",
   "metadata": {},
   "outputs": [],
   "source": [
    "class account:\n",
    "    \n",
    "    def __init__(self,pin):\n",
    "        self.__pin = pin\n",
    "        \n",
    "    def get_pin(self):\n",
    "        return self.__pin\n",
    "    \n",
    "    def set_pin(self,new_pin):\n",
    "        if new_pin != self.__pin and type(new_pin) == int:\n",
    "            self.__pin = new_pin\n",
    "        else:\n",
    "            print(\"try again\")"
   ]
  },
  {
   "cell_type": "code",
   "execution_count": 12,
   "id": "cf9e9677-c4ef-4ce4-abec-19ef20ee33d3",
   "metadata": {},
   "outputs": [],
   "source": [
    "user = account(123)"
   ]
  },
  {
   "cell_type": "code",
   "execution_count": 13,
   "id": "4f66d85a-7287-44f5-b069-f25caae1db8f",
   "metadata": {},
   "outputs": [
    {
     "data": {
      "text/plain": [
       "123"
      ]
     },
     "execution_count": 13,
     "metadata": {},
     "output_type": "execute_result"
    }
   ],
   "source": [
    "user.get_pin()"
   ]
  },
  {
   "cell_type": "code",
   "execution_count": 14,
   "id": "4da24de5-20c1-4397-9783-31a6eac93963",
   "metadata": {},
   "outputs": [],
   "source": [
    "user.set_pin(-123)"
   ]
  },
  {
   "cell_type": "code",
   "execution_count": 15,
   "id": "2e5b76c5-4032-4ac1-9e02-e967d0731c4a",
   "metadata": {},
   "outputs": [],
   "source": [
    "user.set_pin(345)"
   ]
  },
  {
   "cell_type": "code",
   "execution_count": 16,
   "id": "636730a6-e7bb-4766-995b-be5f895a559d",
   "metadata": {},
   "outputs": [
    {
     "data": {
      "text/plain": [
       "345"
      ]
     },
     "execution_count": 16,
     "metadata": {},
     "output_type": "execute_result"
    }
   ],
   "source": [
    "user.get_pin()"
   ]
  },
  {
   "cell_type": "code",
   "execution_count": null,
   "id": "630fd4c5-5ba9-4d15-8b39-43efcf3791f2",
   "metadata": {},
   "outputs": [],
   "source": [
    "Q5.What is method overriding in python? Write a python code to demonstrate method overriding.\n",
    "\n",
    "--> When a child class method overrides or provides it's own implementation to the parent class method of the same name, parameters and return type, it is known as method overriding.\n",
    "\n",
    "In this case, the child class's method is called the overriding method and the parent class's method is called the overriden method."
   ]
  },
  {
   "cell_type": "code",
   "execution_count": 18,
   "id": "dc234464-b6e6-4300-9a21-c7ef12821cda",
   "metadata": {},
   "outputs": [],
   "source": [
    "# Exmaple of method overriding\n",
    "\n",
    "class parent:\n",
    "    def method1(self):\n",
    "        print(\"this is parent class method\")\n",
    "\n",
    "class child(parent):\n",
    "    def method1(self):\n",
    "        print(\"Parent class method1 is overridden by child class method1.\\nThis is called method overriding\")"
   ]
  },
  {
   "cell_type": "code",
   "execution_count": 19,
   "id": "0bfc8cc5-6e1a-4a85-bdad-d9c0411fbd6b",
   "metadata": {},
   "outputs": [],
   "source": [
    "c = child()"
   ]
  },
  {
   "cell_type": "code",
   "execution_count": 20,
   "id": "75d6115e-4537-4339-a272-4eb5afad89d7",
   "metadata": {},
   "outputs": [
    {
     "name": "stdout",
     "output_type": "stream",
     "text": [
      "Parent class method1 is overridden by child class method1.\n",
      "This is called method overriding\n"
     ]
    }
   ],
   "source": [
    "c.method1()"
   ]
  },
  {
   "cell_type": "code",
   "execution_count": null,
   "id": "1e38303c-9dca-4397-aa4b-a57cd73279e9",
   "metadata": {},
   "outputs": [],
   "source": []
  }
 ],
 "metadata": {
  "kernelspec": {
   "display_name": "Python 3 (ipykernel)",
   "language": "python",
   "name": "python3"
  },
  "language_info": {
   "codemirror_mode": {
    "name": "ipython",
    "version": 3
   },
   "file_extension": ".py",
   "mimetype": "text/x-python",
   "name": "python",
   "nbconvert_exporter": "python",
   "pygments_lexer": "ipython3",
   "version": "3.10.8"
  }
 },
 "nbformat": 4,
 "nbformat_minor": 5
}
