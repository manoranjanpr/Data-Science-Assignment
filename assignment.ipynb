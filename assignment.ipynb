{
 "cells": [
  {
   "cell_type": "code",
   "execution_count": null,
   "id": "044ea61c-1e09-4779-8e91-693f8e9a8a49",
   "metadata": {},
   "outputs": [],
   "source": [
    " 1.Who developed Python Programming Language?\n",
    "--> Guido Van Rossum"
   ]
  },
  {
   "cell_type": "code",
   "execution_count": null,
   "id": "85c041ed-3923-48a6-8a57-31d75ea5cf57",
   "metadata": {},
   "outputs": [],
   "source": [
    " 2.Which type of Programming does Python Support?\n",
    "-->Python Supports Object oriented Programming & function Programming    "
   ]
  },
  {
   "cell_type": "code",
   "execution_count": null,
   "id": "d0b7f86f-d295-403e-9141-ba9345129377",
   "metadata": {},
   "outputs": [],
   "source": [
    " 3.Is Python Case Sensitive when dealing with identifiers?\n",
    "-->YES    "
   ]
  },
  {
   "cell_type": "code",
   "execution_count": null,
   "id": "cc379b65-7b71-4591-be52-3249b5a6a39d",
   "metadata": {},
   "outputs": [],
   "source": [
    " 4.What is the correct extension of the Python file?\n",
    "-->.py    "
   ]
  },
  {
   "cell_type": "code",
   "execution_count": null,
   "id": "8cca5260-b8a7-40ab-9832-4026834f0820",
   "metadata": {},
   "outputs": [],
   "source": [
    " 5.Is Python code compiled or interpreted?\n",
    "-->interpreted    "
   ]
  },
  {
   "cell_type": "code",
   "execution_count": null,
   "id": "a8d28b00-e6ce-44dc-b607-a59cc50b8044",
   "metadata": {},
   "outputs": [],
   "source": [
    " 6.Name a few blocks of code used to define in Python language?\n",
    "-->Indentation(:) is used to defined a block for i in range (3):do something\n",
    "        if,elif else \n",
    "        block\n",
    "        if something:\n",
    "            do\n",
    "        elif something:\n",
    "            do\n",
    "        else:\n",
    "            do\n",
    "            \n",
    "        while block  \n",
    "        while something:\n",
    "            do"
   ]
  },
  {
   "cell_type": "code",
   "execution_count": null,
   "id": "4302703f-661c-4db2-8771-a540f6be11ea",
   "metadata": {},
   "outputs": [],
   "source": [
    " 7.state a character used to give single-line comments in python?\n",
    "--># is used to give  single-line comments in python    "
   ]
  },
  {
   "cell_type": "code",
   "execution_count": null,
   "id": "29855876-8b62-46cc-80cc-f99842d6f34a",
   "metadata": {},
   "outputs": [],
   "source": [
    " 8.Mention fuctions which can help us to "
   ]
  },
  {
   "cell_type": "code",
   "execution_count": null,
   "id": "23d8941a-e7a6-4311-afad-99fbb6fbc995",
   "metadata": {},
   "outputs": [],
   "source": []
  },
  {
   "cell_type": "code",
   "execution_count": null,
   "id": "96e0fa07-a2c0-4736-a765-a1bab1506096",
   "metadata": {},
   "outputs": [],
   "source": []
  },
  {
   "cell_type": "code",
   "execution_count": null,
   "id": "b1090102-5219-4a71-98ef-97b03dcbdfed",
   "metadata": {},
   "outputs": [],
   "source": []
  },
  {
   "cell_type": "code",
   "execution_count": null,
   "id": "be89ab79-f563-483d-b5e1-e4ad2c2b82fd",
   "metadata": {},
   "outputs": [],
   "source": []
  },
  {
   "cell_type": "code",
   "execution_count": null,
   "id": "a0b9b853-7cb5-41e2-ad5e-50137d748d3f",
   "metadata": {},
   "outputs": [],
   "source": []
  },
  {
   "cell_type": "code",
   "execution_count": null,
   "id": "25e46939-a8ab-4717-a547-391b6420315c",
   "metadata": {},
   "outputs": [],
   "source": []
  },
  {
   "cell_type": "code",
   "execution_count": null,
   "id": "b46afdde-40b3-42ea-ad8d-14484dd62bd3",
   "metadata": {},
   "outputs": [],
   "source": []
  },
  {
   "cell_type": "code",
   "execution_count": null,
   "id": "ad1347df-4393-4278-80be-859a0bc7e11f",
   "metadata": {},
   "outputs": [],
   "source": []
  }
 ],
 "metadata": {
  "kernelspec": {
   "display_name": "Python 3 (ipykernel)",
   "language": "python",
   "name": "python3"
  },
  "language_info": {
   "codemirror_mode": {
    "name": "ipython",
    "version": 3
   },
   "file_extension": ".py",
   "mimetype": "text/x-python",
   "name": "python",
   "nbconvert_exporter": "python",
   "pygments_lexer": "ipython3",
   "version": "3.10.6"
  }
 },
 "nbformat": 4,
 "nbformat_minor": 5
}
