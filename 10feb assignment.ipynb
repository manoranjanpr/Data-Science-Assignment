{
 "cells": [
  {
   "cell_type": "code",
   "execution_count": null,
   "id": "e51f6d9a-eea2-4e4c-ac88-62caf2b1c65a",
   "metadata": {},
   "outputs": [],
   "source": [
    "Q1. Which function is used to open a file? What are the different modes of opening a file? Explain each mode of file opening.\n",
    "\n",
    "open() is used to open a file.\n",
    "\n",
    "there are many mode:- 'r','w','x','a','b','t','+','U'\n",
    "\n",
    "--> Mostly we uses are:- 'w', 'r' and 'a'\n",
    "\n",
    "'r' open for reading (default)\n",
    "'w' open for writing, truncating the file first\n",
    "'x' create a new file and open it for writing\n",
    "'a' open for writing, appending to the end of the file if it exists\n",
    "'b' binary mode\n",
    "'t' text mode (default)\n",
    "'+' open a disk file for updating (reading and writing)\n",
    "'U' universal newline mode (deprecated)"
   ]
  },
  {
   "cell_type": "code",
   "execution_count": null,
   "id": "0c65e235-c880-43f5-ab48-476d0e772cfc",
   "metadata": {},
   "outputs": [],
   "source": [
    "Q2. Why close() function is used? Why is it important to close a file?\n",
    "\n",
    "--> close() function is used to close the open file.\n",
    "\n",
    "--> Why is it important to close a file.\n",
    "\n",
    "If the file has any sort of buffering behind it it and we don't call close then we could potentially lose data.\n",
    "If the OS has limited resources (e.g. number of open files) then by not closing files you are wasting system resources."
   ]
  },
  {
   "cell_type": "code",
   "execution_count": null,
   "id": "0349a3e6-2b2d-46ed-8b52-e6a79a895793",
   "metadata": {},
   "outputs": [],
   "source": [
    "Q3. Write a python program to create a text file. Write ‘I want to become a Data Scientist’ in that file. Then close the file. Open this file and read the content of the file."
   ]
  },
  {
   "cell_type": "code",
   "execution_count": 1,
   "id": "fe41694a-9abf-46f4-8b61-4b531e0bf6a5",
   "metadata": {},
   "outputs": [],
   "source": [
    "file = open(\"data_science.txt\",'w')"
   ]
  },
  {
   "cell_type": "code",
   "execution_count": 3,
   "id": "edc3e1f9-7da8-4d35-9fa8-05964c16955b",
   "metadata": {},
   "outputs": [
    {
     "data": {
      "text/plain": [
       "34"
      ]
     },
     "execution_count": 3,
     "metadata": {},
     "output_type": "execute_result"
    }
   ],
   "source": [
    "file.write(\"I want to become a Data Scientist.\")\n"
   ]
  },
  {
   "cell_type": "code",
   "execution_count": 4,
   "id": "2f5ed2ed-81ba-4fbb-8e90-bf32767e7d28",
   "metadata": {},
   "outputs": [],
   "source": [
    "file.close()"
   ]
  },
  {
   "cell_type": "code",
   "execution_count": 5,
   "id": "b1daa5e2-9dca-414d-aced-58a51ee8f47c",
   "metadata": {},
   "outputs": [
    {
     "name": "stdout",
     "output_type": "stream",
     "text": [
      "I want to become a Data Scientist.I want to become a Data Scientist.\n"
     ]
    }
   ],
   "source": [
    "with open(\"data_science.txt\",'r') as f:\n",
    "    data = f.read()\n",
    "    print(data)"
   ]
  },
  {
   "cell_type": "code",
   "execution_count": null,
   "id": "561ebc66-e40b-416c-b714-ac8002ffa36d",
   "metadata": {},
   "outputs": [],
   "source": [
    "Q4. Explain the following with python code: read(), readline() and readlines().\n",
    "\n",
    "with open(\"question4.txt\",'w') as f:\n",
    "    f.write(\"\"\"Information can be passed into functions as arguments.\n",
    "\n",
    "Arguments are specified after the function name, inside the parentheses. You can add as many arguments as you want, just separate them with a comma.\n",
    "\n",
    "The following example has a function with one argument (fname). When the function is called, we pass along a first name, which is used inside the functi\n"
   ]
  },
  {
   "cell_type": "code",
   "execution_count": null,
   "id": "4ccfe7f7-84f9-4606-ac9c-d9a7f477d121",
   "metadata": {},
   "outputs": [],
   "source": [
    "# read() is used to read the file.\n",
    "with open(\"question4.txt\",'r') as f:\n",
    "    reader = f.read()\n",
    "    print(reader)"
   ]
  },
  {
   "cell_type": "code",
   "execution_count": null,
   "id": "2ab2571c-5beb-4fbe-98e2-156f0232ac0f",
   "metadata": {},
   "outputs": [],
   "source": [
    "Information can be passed into functions as arguments.\n",
    "\n",
    "Arguments are specified after the function name, inside the parentheses. You can add as many arguments as you want, just separate them with a comma.\n",
    "\n",
    "The following example has a function with one argument (fname). When the function is called, we pass along a first name, which is used inside the function to print the full name:"
   ]
  },
  {
   "cell_type": "code",
   "execution_count": null,
   "id": "188a6152-1593-4212-9940-e66bc57148fa",
   "metadata": {},
   "outputs": [],
   "source": [
    "Information can be passed into functions as arguments.\n"
   ]
  },
  {
   "cell_type": "code",
   "execution_count": null,
   "id": "50cb3383-cf26-485f-bc9f-cf68364fbaab",
   "metadata": {},
   "outputs": [],
   "source": [
    "# readlines is used return all the lines in a file in the format of a list \n",
    "# where each element is a line in the file.\n",
    "with open(\"question4.txt\",'r') as f:\n",
    "    reader = f.readlines()\n",
    "    print(reader)"
   ]
  },
  {
   "cell_type": "code",
   "execution_count": null,
   "id": "e94c1f38-c99f-4d7a-b0c1-9ff2bcf4081f",
   "metadata": {},
   "outputs": [],
   "source": [
    "['Information can be passed into functions as arguments.\\n', '\\n', 'Arguments are specified after the function name, inside the parentheses. You can add as many arguments as you want, just separate them with a comma.\\n', '\\n', 'The following example has a function with one argument (fname). When the function is called, we pass along a first name, which is used inside the function to print the full name:']\n"
   ]
  },
  {
   "cell_type": "code",
   "execution_count": null,
   "id": "ee3017d3-83be-4c07-ac00-3dacf5eb4fca",
   "metadata": {},
   "outputs": [],
   "source": [
    "Q5. Explain why with statement is used with open(). What is the advantage of using with statement and open() together?\n",
    "\n",
    "with statement simplifies exception handling by encapsulating common preparation and cleanup tasks.” In addition, it will automatically close the file. The with statement provides a way for ensuring that a clean-up is always used.\n",
    "\n",
    "By using with with open() we don't need to close the file, it automatically closes the file.\n"
   ]
  },
  {
   "cell_type": "code",
   "execution_count": null,
   "id": "70ce8a2a-59a3-445b-b4ad-85168d4257ad",
   "metadata": {},
   "outputs": [],
   "source": [
    "Q6. Explain the write() and writelines() functions. Give a suitable example.\n",
    "\n",
    "--> write()\n",
    "\n",
    "The write() function will write the content in the file without adding any extra characters.\n",
    "--> writelines()\n",
    "\n",
    "writelines() function writes the content of a list to a file.\n",
    "\n",
    "Note:- The only difference between the write() and writelines() is that write() is used to write a string to an already opened file while writelines() method is used to write a list of strings in an opened file.\n"
   ]
  },
  {
   "cell_type": "code",
   "execution_count": 8,
   "id": "ac05241e-d435-4415-93f8-1875cc25f217",
   "metadata": {},
   "outputs": [],
   "source": [
    "# Example of write\n",
    "file = open(\"question_6.txt\",'w')\n",
    "file.write(\"write function\")\n",
    "file.close()"
   ]
  },
  {
   "cell_type": "code",
   "execution_count": 9,
   "id": "e02b8d9d-47a3-406a-bd5c-7006b9604d2d",
   "metadata": {},
   "outputs": [
    {
     "name": "stdout",
     "output_type": "stream",
     "text": [
      "write function\n"
     ]
    }
   ],
   "source": [
    "with open(\"question_6.txt\",'r') as f:\n",
    "    data = f.read()\n",
    "    print(data)"
   ]
  },
  {
   "cell_type": "code",
   "execution_count": 10,
   "id": "5478a74f-867e-4646-82da-3178198de39f",
   "metadata": {},
   "outputs": [],
   "source": [
    "# Example of writelines\n",
    "file = file = open(\"question_6.txt\",'a')\n",
    "file.writelines(\"\"\"As per the syntax, the list of strings that is passed to the writelines() \n",
    "function is written into the opened file.\n",
    "Similar to the write() function, the writelines() \n",
    "function does not add a newline character(\\n) to the end of the string.\"\"\")\n",
    "file.close()"
   ]
  },
  {
   "cell_type": "code",
   "execution_count": 11,
   "id": "bdf088e7-bbdf-4028-9f29-dfd04d9b864e",
   "metadata": {},
   "outputs": [
    {
     "name": "stdout",
     "output_type": "stream",
     "text": [
      "write functionAs per the syntax, the list of strings that is passed to the writelines() \n",
      "function is written into the opened file.\n",
      "Similar to the write() function, the writelines() \n",
      "function does not add a newline character(\n",
      ") to the end of the string.\n"
     ]
    }
   ],
   "source": [
    "with open(\"question_6.txt\",'r') as f:\n",
    "    data = f.read()\n",
    "    print(data)"
   ]
  },
  {
   "cell_type": "code",
   "execution_count": null,
   "id": "83337204-4050-4b03-8844-1bda88b89d1e",
   "metadata": {},
   "outputs": [],
   "source": []
  }
 ],
 "metadata": {
  "kernelspec": {
   "display_name": "Python 3 (ipykernel)",
   "language": "python",
   "name": "python3"
  },
  "language_info": {
   "codemirror_mode": {
    "name": "ipython",
    "version": 3
   },
   "file_extension": ".py",
   "mimetype": "text/x-python",
   "name": "python",
   "nbconvert_exporter": "python",
   "pygments_lexer": "ipython3",
   "version": "3.10.8"
  }
 },
 "nbformat": 4,
 "nbformat_minor": 5
}
