{
 "cells": [
  {
   "cell_type": "code",
   "execution_count": null,
   "id": "9c5d1efc-e427-4277-81e1-76e378c072b0",
   "metadata": {},
   "outputs": [],
   "source": [
    "Q1. Explain Class and Object with respect to Object-Oriented Programming. Give a suitable example.\n",
    "\n",
    "-> Class is a blueprint for the object we want to create. for example:-\n",
    "\n",
    "we can think of the class as a sketch of a car. It contains all the details about the tyres, doors, windows, etc. Based on these descriptions we build a car.and here car is the object.\n",
    "ex:-\n",
    "    class car():\n",
    "        pass\n",
    "\n",
    "--> Objects are the instance of the class. for example:-\n",
    "\n",
    "if we do   WagonR = car()\n",
    "WagonR is a object of car class."
   ]
  },
  {
   "cell_type": "code",
   "execution_count": 1,
   "id": "9650b405-331b-4242-8847-3d76ef7d132f",
   "metadata": {},
   "outputs": [],
   "source": [
    "#example\n",
    "class car:\n",
    "    def detials(self):\n",
    "        return \"A red coloured car.\""
   ]
  },
  {
   "cell_type": "code",
   "execution_count": 2,
   "id": "06979457-e862-4eef-ae62-23fe9ad8563d",
   "metadata": {},
   "outputs": [
    {
     "data": {
      "text/plain": [
       "'A red coloured car.'"
      ]
     },
     "execution_count": 2,
     "metadata": {},
     "output_type": "execute_result"
    }
   ],
   "source": [
    "WagonR = car()\n",
    "WagonR.detials()"
   ]
  },
  {
   "cell_type": "code",
   "execution_count": null,
   "id": "ee7c2497-ed0f-4b04-aa0b-22640a5f1323",
   "metadata": {},
   "outputs": [],
   "source": [
    "Q2. Name the four pillars of OOPs.\n",
    "-> The four pillars of OOPs are:-\n",
    "\n",
    "1. Inheritance\n",
    "2. Polymorphism\n",
    "3. Encapsulation\n",
    "4. Abstraction"
   ]
  },
  {
   "cell_type": "code",
   "execution_count": null,
   "id": "79583a88-853d-488b-b048-d2df01682362",
   "metadata": {},
   "outputs": [],
   "source": [
    "Q3. Explain why the init() function is used. Give a suitable example.\n",
    "--> init() function is used to initialize the attributes of an object as soon as the object is formed."
   ]
  },
  {
   "cell_type": "code",
   "execution_count": 3,
   "id": "bfc8c32e-c38c-44a3-b2d4-13b52a9045f3",
   "metadata": {},
   "outputs": [],
   "source": [
    "#example\n",
    "class car:\n",
    "    def __init__(self,car_color):\n",
    "        self.car_color = car_color\n",
    "    def details(self):\n",
    "        return self.car_color"
   ]
  },
  {
   "cell_type": "code",
   "execution_count": 4,
   "id": "4ad0fe9e-ec6d-494b-a684-c099f408c962",
   "metadata": {},
   "outputs": [
    {
     "data": {
      "text/plain": [
       "'Red'"
      ]
     },
     "execution_count": 4,
     "metadata": {},
     "output_type": "execute_result"
    }
   ],
   "source": [
    "WagonR = car(\"Red\")\n",
    "WagonR.details()"
   ]
  },
  {
   "cell_type": "code",
   "execution_count": null,
   "id": "8ebc0616-06ae-43d5-a8fe-41f085b3a34f",
   "metadata": {},
   "outputs": [],
   "source": [
    "Q4. Why self is used in OOPs?\n",
    "\n",
    "The self parameter is a reference to the current instance(object) of the class, and is used to access variables that belongs to the class.\n",
    "\n",
    "Note:- self is not a reserved keyword we can use other name(ex:-shiva) also."
   ]
  },
  {
   "cell_type": "code",
   "execution_count": null,
   "id": "7a2037b0-fc54-494a-acd3-4283b058e925",
   "metadata": {},
   "outputs": [],
   "source": [
    "Q5. What is inheritance? Give an example for each type of inheritance.\n",
    "\n",
    "--> Inheritance means inheriting.\n",
    "\n",
    "--> Inheritance allows us to create a new class from an existing class(by inheriting properties of parent class).\n",
    "\n",
    "--> Once a functionality is developed, we can simply inherit it. No need to rewrite the code again. This allows for cleaner code and easier to maintain.\n",
    "\n",
    "--> types of Inheritance\n",
    "\n",
    "1.Single Inheritance\n",
    "2.Multiple Inheritance\n",
    "3.Multilevel Inheritance\n",
    "4.Hierarchical Inheritance\n",
    "5.Hybrid Inheritance"
   ]
  },
  {
   "cell_type": "code",
   "execution_count": 5,
   "id": "db29d75b-1543-43ce-8e4b-e9ee3e711858",
   "metadata": {},
   "outputs": [
    {
     "name": "stdout",
     "output_type": "stream",
     "text": [
      "parent class function.\n",
      "child class function.\n"
     ]
    }
   ],
   "source": [
    "# Example of Single Inheritance\n",
    "\n",
    "class Parent:\n",
    "\tdef func1(self):\n",
    "\t\tprint(\"parent class function.\")\n",
    "class Child(Parent):\n",
    "\tdef func2(self):\n",
    "\t\tprint(\"child class function.\")\n",
    "object = Child()\n",
    "object.func1()\n",
    "object.func2()"
   ]
  },
  {
   "cell_type": "code",
   "execution_count": 6,
   "id": "07a98d7d-e227-427d-bb8f-ecd1deb378a1",
   "metadata": {},
   "outputs": [
    {
     "name": "stdout",
     "output_type": "stream",
     "text": [
      "Father : RAM\n",
      "Mother : SITA\n"
     ]
    }
   ],
   "source": [
    "# Example of Multiple Inheritance\n",
    "\n",
    "class Mother:\n",
    "\tmothername = \"\"\n",
    "\tdef mother(self):\n",
    "\t\tprint(self.mothername)\n",
    "class Father:\n",
    "\tfathername = \"\"\n",
    "\tdef father(self):\n",
    "\t\tprint(self.fathername)\n",
    "class Son(Mother, Father):\n",
    "\tdef parents(self):\n",
    "\t\tprint(\"Father :\", self.fathername)\n",
    "\t\tprint(\"Mother :\", self.mothername)\n",
    "s1 = Son()\n",
    "s1.fathername = \"RAM\"\n",
    "s1.mothername = \"SITA\"\n",
    "s1.parents()"
   ]
  },
  {
   "cell_type": "code",
   "execution_count": 7,
   "id": "edbae255-1819-49ec-bee1-3945d24c38bc",
   "metadata": {},
   "outputs": [
    {
     "name": "stdout",
     "output_type": "stream",
     "text": [
      "Grandfather name : Lal mani\n",
      "Father name : Rampal\n",
      "Son name : Prince\n"
     ]
    }
   ],
   "source": [
    "# Example of Multilevel Inheritance\n",
    "class Grandfather:\n",
    "\tdef __init__(self, grandfathername):\n",
    "\t\tself.grandfathername = grandfathername\n",
    "class Father(Grandfather):\n",
    "\tdef __init__(self, fathername, grandfathername):\n",
    "\t\tself.fathername = fathername\n",
    "\t\tGrandfather.__init__(self, grandfathername)\n",
    "class Son(Father):\n",
    "\tdef __init__(self, sonname, fathername, grandfathername):\n",
    "\t\tself.sonname = sonname\n",
    "\t\tFather.__init__(self, fathername, grandfathername)\n",
    "\tdef print_name(self):\n",
    "\t\tprint('Grandfather name :', self.grandfathername)\n",
    "\t\tprint(\"Father name :\", self.fathername)\n",
    "\t\tprint(\"Son name :\", self.sonname)\n",
    "s1 = Son('Prince', 'Rampal', 'Lal mani')\n",
    "s1.grandfathername\n",
    "s1.print_name()"
   ]
  },
  {
   "cell_type": "code",
   "execution_count": 8,
   "id": "cf693b68-b827-4fc5-a969-e0060a8ddb45",
   "metadata": {},
   "outputs": [
    {
     "name": "stdout",
     "output_type": "stream",
     "text": [
      "This function is in parent class.\n",
      "This function is in child 1.\n",
      "This function is in parent class.\n",
      "This function is in child 2.\n"
     ]
    }
   ],
   "source": [
    "# Example of Hierarchical Inheritance\n",
    "\n",
    "class Parent:\n",
    "\tdef func1(self):\n",
    "\t\tprint(\"This function is in parent class.\")\n",
    "class Child1(Parent):\n",
    "\tdef func2(self):\n",
    "\t\tprint(\"This function is in child 1.\")\n",
    "class Child2(Parent):\n",
    "\tdef func3(self):\n",
    "\t\tprint(\"This function is in child 2.\")\n",
    "object1 = Child1()\n",
    "object2 = Child2()\n",
    "object1.func1()\n",
    "object1.func2()\n",
    "object2.func1()\n",
    "object2.func3()"
   ]
  },
  {
   "cell_type": "code",
   "execution_count": 9,
   "id": "4e1d963f-6244-4f36-b168-918e2d6740aa",
   "metadata": {},
   "outputs": [
    {
     "name": "stdout",
     "output_type": "stream",
     "text": [
      "This function is in school.\n",
      "This function is in student 1. \n"
     ]
    }
   ],
   "source": [
    "# Example of Hybrid Inheritance\n",
    "\n",
    "class School:\n",
    "\tdef func1(self):\n",
    "\t\tprint(\"This function is in school.\")\n",
    "class Student1(School):\n",
    "\tdef func2(self):\n",
    "\t\tprint(\"This function is in student 1. \")\n",
    "class Student2(School):\n",
    "\tdef func3(self):\n",
    "\t\tprint(\"This function is in student 2.\")\n",
    "class Student3(Student1, School):\n",
    "\tdef func4(self):\n",
    "\t\tprint(\"This function is in student 3.\")\n",
    "object = Student3()\n",
    "object.func1()\n",
    "object.func2()"
   ]
  },
  {
   "cell_type": "code",
   "execution_count": null,
   "id": "1980d548-f077-4f63-8b56-56646e0d48b6",
   "metadata": {},
   "outputs": [],
   "source": []
  }
 ],
 "metadata": {
  "kernelspec": {
   "display_name": "Python 3 (ipykernel)",
   "language": "python",
   "name": "python3"
  },
  "language_info": {
   "codemirror_mode": {
    "name": "ipython",
    "version": 3
   },
   "file_extension": ".py",
   "mimetype": "text/x-python",
   "name": "python",
   "nbconvert_exporter": "python",
   "pygments_lexer": "ipython3",
   "version": "3.10.8"
  }
 },
 "nbformat": 4,
 "nbformat_minor": 5
}
