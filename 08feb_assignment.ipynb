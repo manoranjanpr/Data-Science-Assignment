{
 "cells": [
  {
   "cell_type": "code",
   "execution_count": null,
   "id": "0b12b49b-031d-4671-97c3-6e21834313e1",
   "metadata": {},
   "outputs": [],
   "source": [
    "Q1. What is Abstraction in OOps? Explain with an example.\n",
    "\n",
    "--> Abstraction is a process of hiding the implementation details from the user only higlighting set of services provide to the user.\n",
    "\n",
    "Example:- we can start a car by turning the key or pressing the start button but we don't know how the engine is getting started.\n"
   ]
  },
  {
   "cell_type": "code",
   "execution_count": null,
   "id": "2660121f-2efd-4596-9d57-2ac749625942",
   "metadata": {},
   "outputs": [],
   "source": [
    "Q2. Differentiate between Abstraction and Encapsulation. Explain with an example.\n",
    "\n",
    "--> Differentiate between Abstraction and Encapsulation\n",
    "\n",
    "Abstraction refers to the act of representing essential features without including the background details. It deals with hiding the implementation details and showing only the necessary information to the user.\n",
    "\n",
    "Encapsulation refers to the wrapping up of data and functions into a single unit called an object. The main idea behind encapsulation is to prevent external code from accessing the internal details of an object, making it secure and protected.\n",
    "\n",
    "\"Example:- of abstraction and encapsulation in OOP is a simple car\". The car can be considered as an abstract class, and various types of cars, such as sedan, SUV, truck, etc., can be considered as its concrete implementations. The abstract class \"car\" can have properties like number of wheels, number of doors, and a method to start the engine. The concrete implementations, such as sedan or SUV, can have specific details like number of seats and fuel capacity, but the user of the car class only needs to know that it has wheels, doors, and an engine that can be started, which is the abstract information. The user doesn't need to know the internal details of how the engine starts, as that is encapsulated within the class.\n"
   ]
  },
  {
   "cell_type": "code",
   "execution_count": null,
   "id": "4bd6a978-a892-4547-a8ee-735e1a68d841",
   "metadata": {},
   "outputs": [],
   "source": [
    "Q3. What is abc module in python? Why is it used?\n",
    "\n",
    "--> The 'abc' module in Python library provides the infrastructure for defining custom abstract base classes. 'abc' works by marking methods of the base class as abstract. This is done by @absttractmethod decorator.\n",
    "\n",
    "--> An abstract base class is used as a blueprint for other classes. Abstract base classes are a powerful feature in Python since they help you define a blueprint for other classes that may have something in common.\n"
   ]
  },
  {
   "cell_type": "code",
   "execution_count": null,
   "id": "02fbefc5-ac64-4a1f-ad4e-296816873745",
   "metadata": {},
   "outputs": [],
   "source": [
    "Q4. How can we achieve data abstraction?\n",
    "\n",
    "--> Data Abstraction in Python can be achieved through creating abstract classes and inheriting them later.\n"
   ]
  },
  {
   "cell_type": "code",
   "execution_count": null,
   "id": "f07a76d7-9148-458a-946f-0300704a5f9b",
   "metadata": {},
   "outputs": [],
   "source": [
    "Q5. Can we create an instance of an abstract class? Explain your answer.\n",
    "\n",
    "--> No, we cannot create an instance of an abstract class in Python. An abstract class is a class that contains one or more abstract methods, which are methods declared but not defined in the class. The purpose of an abstract class is to provide a common interface for its subclasses, but it cannot be instantiated on its own.\n",
    "\n",
    "--> To create an instance of an abstract class, you need to create a subclass that implements all of the abstract methods defined in the abstract class. Once you have done that, you can create an instance of the subclass.\n"
   ]
  }
 ],
 "metadata": {
  "kernelspec": {
   "display_name": "Python 3 (ipykernel)",
   "language": "python",
   "name": "python3"
  },
  "language_info": {
   "codemirror_mode": {
    "name": "ipython",
    "version": 3
   },
   "file_extension": ".py",
   "mimetype": "text/x-python",
   "name": "python",
   "nbconvert_exporter": "python",
   "pygments_lexer": "ipython3",
   "version": "3.10.8"
  }
 },
 "nbformat": 4,
 "nbformat_minor": 5
}
