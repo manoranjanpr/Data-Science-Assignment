{
 "cells": [
  {
   "cell_type": "code",
   "execution_count": null,
   "id": "7c7cf2d3-ae97-40af-a400-5cc7e982e570",
   "metadata": {},
   "outputs": [],
   "source": [
    "1.Write a program to accept percentage from the user and display the grade according to the following criteria."
   ]
  },
  {
   "cell_type": "code",
   "execution_count": 4,
   "id": "d6c9ec4e-fbdc-4226-bf3e-eaa2ffec7282",
   "metadata": {},
   "outputs": [
    {
     "name": "stdin",
     "output_type": "stream",
     "text": [
      "enter grade:-  92\n"
     ]
    },
    {
     "name": "stdout",
     "output_type": "stream",
     "text": [
      "Grade:- A\n"
     ]
    }
   ],
   "source": [
    "user_input = int(input(\"enter grade:- \"))\n",
    "if user_input >90:\n",
    "    print(\"Grade:- A\")\n",
    "elif user_input>80 and user_input<=90:\n",
    "    print(\"Grade:- B\")\n",
    "elif user_input>=60 and user_input<=80:\n",
    "    print(\"Grade:- C\")\n",
    "else:\n",
    "    print(\"Grade:- D\")"
   ]
  },
  {
   "cell_type": "code",
   "execution_count": null,
   "id": "d3e7e68a-4d36-4f59-8320-5151b3dc57da",
   "metadata": {},
   "outputs": [],
   "source": [
    "2.Write a program to accept the cost price of a bike and display the road tax to be paid according to the\n",
    "following criteria:"
   ]
  },
  {
   "cell_type": "code",
   "execution_count": 3,
   "id": "9372d165-918e-4c84-bf7e-a3bed6c20b6a",
   "metadata": {},
   "outputs": [
    {
     "name": "stdin",
     "output_type": "stream",
     "text": [
      "Enter cost price:-  70000\n"
     ]
    },
    {
     "name": "stdout",
     "output_type": "stream",
     "text": [
      "Road Tax :- 5%\n"
     ]
    }
   ],
   "source": [
    "cost_price = int(input(\"Enter cost price:- \"))\n",
    "if cost_price >100000:\n",
    "    print(\"Road Tax :- 15%\")\n",
    "elif cost_price<=100000 and cost_price>500000:\n",
    "    print(\"Road Tax :- 10%\")\n",
    "else:\n",
    "    print(\"Road Tax :- 5%\")"
   ]
  },
  {
   "cell_type": "code",
   "execution_count": null,
   "id": "20d46423-a5f5-401c-b86c-2c4860d34e6f",
   "metadata": {},
   "outputs": [],
   "source": [
    "3.Accept any city from the user and display monuments of that city."
   ]
  },
  {
   "cell_type": "code",
   "execution_count": 6,
   "id": "64702930-a7ea-4158-925b-d4bc304c52f3",
   "metadata": {},
   "outputs": [
    {
     "name": "stdin",
     "output_type": "stream",
     "text": [
      "City name:-  Jaipur\n"
     ]
    },
    {
     "name": "stdout",
     "output_type": "stream",
     "text": [
      "Jai Mahal\n"
     ]
    }
   ],
   "source": [
    "user_city = input(\"City name:- \")\n",
    "city_name = \"Delhi\",\"Agra\",\"Jaipur\"\n",
    "if user_city in city_name:\n",
    "    if user_city == \"Delhi\":\n",
    "        print(\"Red Fort\")\n",
    "    elif user_city == \"Agra\":\n",
    "        print(\"Taj Mahal\")\n",
    "    else:\n",
    "        print(\"Jai Mahal\")\n",
    "else:\n",
    "    print(\"Please enter correct city name.\")"
   ]
  },
  {
   "cell_type": "code",
   "execution_count": null,
   "id": "41491548-627c-4063-8477-2fb394462824",
   "metadata": {},
   "outputs": [],
   "source": [
    "4.Check how many times a given number can be divided by 3 before it is less than or equal to 10."
   ]
  },
  {
   "cell_type": "code",
   "execution_count": 20,
   "id": "750700e0-cf3c-4180-a281-f3ffd5d3dfcf",
   "metadata": {},
   "outputs": [
    {
     "name": "stdin",
     "output_type": "stream",
     "text": [
      "Enter a number:-  3\n"
     ]
    },
    {
     "name": "stdout",
     "output_type": "stream",
     "text": [
      "3\n"
     ]
    }
   ],
   "source": [
    "n = int(input(\"Enter a number:- \"))\n",
    "count = 3\n",
    "while n>10:\n",
    "    n = n//3\n",
    "    count+=1\n",
    "print(count)"
   ]
  },
  {
   "cell_type": "code",
   "execution_count": null,
   "id": "b02c200d-6710-499a-a6ae-543b9e33f5c1",
   "metadata": {},
   "outputs": [],
   "source": [
    "5.Why and When to Use while Loop in Python give a detailed description with example.\n",
    "-->when we don't know how many steps we have to go for the final result then we have to use while loop. ex."
   ]
  },
  {
   "cell_type": "code",
   "execution_count": 21,
   "id": "a9277eaa-1a32-4aa5-9a45-59ee33bc69b0",
   "metadata": {},
   "outputs": [
    {
     "name": "stdout",
     "output_type": "stream",
     "text": [
      "function of while loop.\n",
      "function of while loop.\n",
      "function of while loop.\n"
     ]
    }
   ],
   "source": [
    "n=3\n",
    "while n>0:\n",
    "    print(\"function of while loop.\")\n",
    "    n -= 1"
   ]
  },
  {
   "cell_type": "code",
   "execution_count": null,
   "id": "e2bc3739-a259-43e9-8832-2e75c1afdb54",
   "metadata": {},
   "outputs": [],
   "source": [
    "6.Use nested while loop to print 3 different pattern."
   ]
  },
  {
   "cell_type": "code",
   "execution_count": 22,
   "id": "463419d6-4b3e-417b-a2fd-9172111e99de",
   "metadata": {},
   "outputs": [
    {
     "name": "stdout",
     "output_type": "stream",
     "text": [
      "0 1 2 3 \n",
      "0 2 4 6 \n",
      "0 3 6 9 \n",
      "0 4 8 12 \n"
     ]
    }
   ],
   "source": [
    "#example 1\n",
    "i = 1\n",
    "while i <= 4 :\n",
    "    j = 0\n",
    "    while  j <= 3 :\n",
    "        print(i*j, end=\" \")\n",
    "        j += 1\n",
    "    print()\n",
    "    i += 1"
   ]
  },
  {
   "cell_type": "code",
   "execution_count": 23,
   "id": "45531cce-f5c7-4da7-ac06-0a2a44bbd905",
   "metadata": {},
   "outputs": [
    {
     "name": "stdout",
     "output_type": "stream",
     "text": [
      "$$$ * * * * \n",
      "$$$ * * * \n",
      "$$$ * * \n",
      "$$$ * \n"
     ]
    }
   ],
   "source": [
    "#example 2\n",
    "n = 3\n",
    "p = 4\n",
    "while n>0:\n",
    "    while p>0:\n",
    "        print(\"$\"*n ,'* '*p)\n",
    "        p -= 1\n",
    "    n -= 1"
   ]
  },
  {
   "cell_type": "code",
   "execution_count": 24,
   "id": "8a60cb0b-85d4-4c3c-a504-3c49684d725f",
   "metadata": {},
   "outputs": [
    {
     "name": "stdout",
     "output_type": "stream",
     "text": [
      "** ^^^ $$$$\n",
      "** ^^^ $$$\n",
      "** ^^^ $$\n",
      "** ^^^ $\n"
     ]
    }
   ],
   "source": [
    "#example 3\n",
    "n = 2\n",
    "p = 3\n",
    "q = 4\n",
    "while n>0:\n",
    "    while p>0:\n",
    "        while q>0:\n",
    "            print(\"*\"*n,\"^\"*p,\"$\"*q)\n",
    "            q -= 1\n",
    "        p -= 1\n",
    "    n -= 1"
   ]
  },
  {
   "cell_type": "code",
   "execution_count": null,
   "id": "30b852a8-3356-4b93-88dd-8c9b7f03d318",
   "metadata": {},
   "outputs": [],
   "source": [
    "7.Reverse a while loop to display numbers from 10 to 1."
   ]
  },
  {
   "cell_type": "code",
   "execution_count": 1,
   "id": "3970eff2-9f34-43ec-9621-918e1fd7cc18",
   "metadata": {},
   "outputs": [
    {
     "name": "stdout",
     "output_type": "stream",
     "text": [
      "10\n",
      "9\n",
      "8\n",
      "7\n",
      "6\n",
      "5\n",
      "4\n",
      "3\n",
      "2\n",
      "1\n"
     ]
    }
   ],
   "source": [
    "n = 10\n",
    "while n>0:\n",
    "    print(n)\n",
    "    n -= 1"
   ]
  },
  {
   "cell_type": "code",
   "execution_count": null,
   "id": "7878b8d5-387d-46ad-9383-6ca8743b0eef",
   "metadata": {},
   "outputs": [],
   "source": []
  },
  {
   "cell_type": "code",
   "execution_count": null,
   "id": "0439d487-198d-4d49-a01d-54d4ec98d0f6",
   "metadata": {},
   "outputs": [],
   "source": []
  }
 ],
 "metadata": {
  "kernelspec": {
   "display_name": "Python 3 (ipykernel)",
   "language": "python",
   "name": "python3"
  },
  "language_info": {
   "codemirror_mode": {
    "name": "ipython",
    "version": 3
   },
   "file_extension": ".py",
   "mimetype": "text/x-python",
   "name": "python",
   "nbconvert_exporter": "python",
   "pygments_lexer": "ipython3",
   "version": "3.10.8"
  }
 },
 "nbformat": 4,
 "nbformat_minor": 5
}
