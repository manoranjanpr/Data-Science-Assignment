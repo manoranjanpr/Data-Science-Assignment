{
 "cells": [
  {
   "cell_type": "code",
   "execution_count": null,
   "id": "c8465b68-1b36-442a-82cd-f7820b76fbdd",
   "metadata": {},
   "outputs": [],
   "source": [
    "Q1. What is multithreading in python? why is it used? Name the module used to handle threads in python.\n",
    "\n",
    "Multithreading in Python refers to a mechanism that allows multiple threads of execution to run concurrently within a single process. Each thread runs independently, allowing for parallel execution and potentially improving the performance of an application.\n",
    "\n",
    "Multithreading in Python is used to improve the performance of a program by taking advantage of the available CPU resources. By allowing multiple threads of execution to run concurrently, a program can perform multiple tasks at the same time, which can result in faster completion times and a more responsive user interface.\n",
    "\n",
    "'threading' module provides tools for creating and managing threads in a Python program."
   ]
  },
  {
   "cell_type": "code",
   "execution_count": null,
   "id": "b7dd71ba-621c-444c-bc3a-cb4d17865ddc",
   "metadata": {},
   "outputs": [],
   "source": [
    "Q2. Why threading module used? write the use of the following functions.\n",
    "\n",
    "1.activeCount()\n",
    "2.currentThread()\n",
    "3.enumerate()\n",
    "\n",
    "The threading module in Python is used to create and manage threads within a Python program. It provides a high-level interface for working with threads, making it easy to create, start, pause, resume, and terminate threads.\n",
    "\n",
    "activecount():- This method is useful for monitoring the number of threads that are currently running in a program.\n",
    "\n",
    "currentThread():- It is used to obtain a reference to the currently executing thread object.\n",
    "\n",
    "enumerate():- is a built-in Python function that is commonly used with iterables (such as lists, tuples, and strings) to add a counter to the iterable and return it as a new object."
   ]
  },
  {
   "cell_type": "code",
   "execution_count": null,
   "id": "1997cd22-4aa5-4eae-b0f0-f68667ba965e",
   "metadata": {},
   "outputs": [],
   "source": [
    "Q3. Explain the following functions\n",
    "\n",
    "1.run()\n",
    "2.start()\n",
    "3.join()\n",
    "4.isAlive()\n",
    "\n",
    "run()\n",
    "\n",
    "The function run() is a method in the Python threading module that is used to define the behavior of a thread.the run() method is typically implemented by subclassing the threading.Thread class and overriding the run() method with custom logic.\n",
    "start()\n",
    "\n",
    "The start() function is a method in the Python threading module that is used to start the execution of a new thread. When called, the start() method initializes the thread, allocates any necessary system resources, and then calls the run() method of the target function in a separate thread of execution.\n",
    "join()\n",
    "\n",
    "The join() function is a method in the Python threading module that is used to wait for a thread to complete its execution before continuing with the main thread. When called, the join() method blocks the calling thread until the thread being joined has finished executing or until a timeout has elapsed.\n",
    "isAlive()\n",
    "\n",
    "The isAlive() function is a method in the Python threading module that is used to determine whether a thread is currently running or not. When called, the isAlive() method returns a boolean value indicating whether the thread is still executing or has completed its execution."
   ]
  },
  {
   "cell_type": "code",
   "execution_count": null,
   "id": "95b97aac-f227-4cc3-8ca3-b391b0e80efd",
   "metadata": {},
   "outputs": [],
   "source": [
    "Q4. Write a python program to create two threads. Thread one must print the list of squares and thread two must print the list of cubes."
   ]
  },
  {
   "cell_type": "code",
   "execution_count": 1,
   "id": "345b8bd7-7039-412e-be62-7b8fcb5765e1",
   "metadata": {},
   "outputs": [],
   "source": [
    "import threading"
   ]
  },
  {
   "cell_type": "code",
   "execution_count": 2,
   "id": "89afecee-eb4d-42f8-9543-bcfc46ea116f",
   "metadata": {},
   "outputs": [],
   "source": [
    "def print_squares():\n",
    "    for i in range(1, 11):\n",
    "        print(f\"{i} squared is {i*i}\")"
   ]
  },
  {
   "cell_type": "code",
   "execution_count": 3,
   "id": "980648d5-8e5e-451a-891b-fce7c3e2ae1f",
   "metadata": {},
   "outputs": [],
   "source": [
    "def print_cubes():\n",
    "    for i in range(1, 11):\n",
    "        print(f\"{i} cubed is {i*i*i}\")"
   ]
  },
  {
   "cell_type": "code",
   "execution_count": 4,
   "id": "ce899559-23b4-4b0d-8b50-70bdeada4ee4",
   "metadata": {},
   "outputs": [],
   "source": [
    "t1 = threading.Thread(target=print_squares)\n",
    "t2 = threading.Thread(target=print_cubes)"
   ]
  },
  {
   "cell_type": "code",
   "execution_count": 5,
   "id": "41aa8470-10f7-4b5f-a384-6b686474fb8e",
   "metadata": {},
   "outputs": [
    {
     "name": "stdout",
     "output_type": "stream",
     "text": [
      "1 squared is 1\n",
      "2 squared is 4\n",
      "3 squared is 9\n",
      "4 squared is 16\n",
      "5 squared is 25\n",
      "6 squared is 36\n",
      "7 squared is 49\n",
      "8 squared is 64\n",
      "9 squared is 81\n",
      "10 squared is 100\n",
      "1 cubed is 1\n",
      "2 cubed is 8\n",
      "3 cubed is 27\n",
      "4 cubed is 64\n",
      "5 cubed is 125\n",
      "6 cubed is 216\n",
      "7 cubed is 343\n",
      "8 cubed is 512\n",
      "9 cubed is 729\n",
      "10 cubed is 1000\n"
     ]
    }
   ],
   "source": [
    "# Start both threads\n",
    "t1.start()\n",
    "t2.start()\n",
    "\n",
    "# Wait for both threads to complete\n",
    "t1.join()\n",
    "t2.join()"
   ]
  },
  {
   "cell_type": "code",
   "execution_count": null,
   "id": "ae6b041f-040e-4ed3-97c9-cde01c93bddd",
   "metadata": {},
   "outputs": [],
   "source": [
    "Q5. State advantages and disadvantages of multithreading.\n",
    "\n",
    "Advantages of multithreading\n",
    "\n",
    "Improved performance: One of the main advantages of multithreading is improved performance. By allowing multiple threads of execution to run concurrently, a program can perform multiple tasks at the same time, potentially improving the overall performance of the application.\n",
    "Efficient use of system resources: Multithreading can also help to make more efficient use of system resources, such as CPU time and memory. By running multiple threads in parallel, a program can use these resources more effectively and avoid wasting time waiting for I/O or other blocking operations to complete.\n",
    "Responsiveness: Multithreading can also help to improve the responsiveness of an application. By running long-running tasks in a separate thread, the main thread can remain responsive to user input and other events, providing a better user experience.\n",
    "Disadvantages of multithreading\n",
    "\n",
    "Complexity: Multithreading can also add complexity to a program. Handling shared resources, such as variables or files, between threads can be challenging and can lead to issues like deadlocks, race conditions, or synchronization problems.\n",
    "Increased memory usage: Multithreading can also increase the memory usage of a program, since each thread requires its own stack and other data structures. This can become a problem if a program creates too many threads or if memory usage is already high.\n",
    "Debugging: Debugging a multithreaded program can be more difficult than debugging a single-threaded program, as issues can be harder to reproduce and diagnose."
   ]
  },
  {
   "cell_type": "code",
   "execution_count": null,
   "id": "427f6449-041c-4fbe-8c1b-869dc4954f48",
   "metadata": {},
   "outputs": [],
   "source": [
    "Q6. Explain deadlocks and race conditions.\n",
    "\n",
    "A deadlock occurs when two or more threads are blocked, waiting for each other to release a resource that they need in order to proceed. This can result in a situation where no thread can make progress, and the program effectively freezes.\n",
    "\n",
    "A race condition occurs when the outcome of a program depends on the timing or order of events in different threads. This can lead to unpredictable or incorrect behavior, as different threads may access or modify shared resources in an unexpected order.\n",
    "\n",
    " "
   ]
  }
 ],
 "metadata": {
  "kernelspec": {
   "display_name": "Python 3 (ipykernel)",
   "language": "python",
   "name": "python3"
  },
  "language_info": {
   "codemirror_mode": {
    "name": "ipython",
    "version": 3
   },
   "file_extension": ".py",
   "mimetype": "text/x-python",
   "name": "python",
   "nbconvert_exporter": "python",
   "pygments_lexer": "ipython3",
   "version": "3.10.8"
  }
 },
 "nbformat": 4,
 "nbformat_minor": 5
}
