{
 "cells": [
  {
   "cell_type": "code",
   "execution_count": null,
   "id": "cb3e9c76-dd81-4d6a-910e-8e8f52aca6af",
   "metadata": {},
   "outputs": [],
   "source": [
    "Q1. What is an Exception in pthon? Write the difference between Exceptions and Syntax error.\n",
    "\n",
    "An Exception is an error that happens during the execution of a program. Whenever there is an error.\n",
    "Exception is a object that represents an error\n",
    "difference between Exceptions and Syntax error\n",
    "Syntax errors often called as parsing errors, are predominantly caused when the parser detects a syntactic issue in your code.\n",
    "Python exceptions are errors that are detected during execution and are not unconditionally fatal."
   ]
  },
  {
   "cell_type": "code",
   "execution_count": null,
   "id": "53791652-1031-4f59-befa-13dd04ca6c96",
   "metadata": {},
   "outputs": [],
   "source": [
    "Q2. What happens when exception is not handled? Explain with an example.\n",
    "\n",
    "If an exception is not caught (with a catch block), the runtime system will abort the program (i.e. crash) and an exception message will print to the console."
   ]
  },
  {
   "cell_type": "code",
   "execution_count": 1,
   "id": "4f675ff0-6f99-4fd5-81ad-8b4e777b4c34",
   "metadata": {},
   "outputs": [
    {
     "ename": "ZeroDivisionError",
     "evalue": "division by zero",
     "output_type": "error",
     "traceback": [
      "\u001b[0;31m---------------------------------------------------------------------------\u001b[0m",
      "\u001b[0;31mZeroDivisionError\u001b[0m                         Traceback (most recent call last)",
      "Cell \u001b[0;32mIn[1], line 2\u001b[0m\n\u001b[1;32m      1\u001b[0m \u001b[38;5;66;03m#Example\u001b[39;00m\n\u001b[0;32m----> 2\u001b[0m a \u001b[38;5;241m=\u001b[39m \u001b[38;5;241;43m10\u001b[39;49m\u001b[38;5;241;43m/\u001b[39;49m\u001b[38;5;241;43m0\u001b[39;49m\n\u001b[1;32m      3\u001b[0m a\n\u001b[1;32m      4\u001b[0m \u001b[38;5;66;03m# The above code is not able to capture the exception so the code will crash.\u001b[39;00m\n",
      "\u001b[0;31mZeroDivisionError\u001b[0m: division by zero"
     ]
    }
   ],
   "source": [
    "#Example\n",
    "a = 10/0\n",
    "a\n",
    "# The above code is not able to capture the exception so the code will crash."
   ]
  },
  {
   "cell_type": "code",
   "execution_count": 2,
   "id": "da08fea0-4b23-4b1b-b7af-d35bf6ba3607",
   "metadata": {},
   "outputs": [
    {
     "name": "stdout",
     "output_type": "stream",
     "text": [
      "division by zero\n"
     ]
    }
   ],
   "source": [
    "# EXample\n",
    "try:\n",
    "    10/0\n",
    "except ZeroDivisionError as e:\n",
    "    print(e)\n",
    "# In above code except block is able to capture the exception so the code will not crash"
   ]
  },
  {
   "cell_type": "code",
   "execution_count": null,
   "id": "6b3433cf-06db-4035-b755-78e90e615893",
   "metadata": {},
   "outputs": [],
   "source": [
    "Q3. Which Python statements are used to catch and handle exceptions?Explain with an example.\n",
    "\n",
    ".(try and except) is used to catch the and handle exception.\n"
   ]
  },
  {
   "cell_type": "code",
   "execution_count": 3,
   "id": "2377930d-2ab8-48ec-a31c-10c3a2a03f51",
   "metadata": {},
   "outputs": [
    {
     "name": "stdout",
     "output_type": "stream",
     "text": [
      "10/0 :: division by zero\n"
     ]
    }
   ],
   "source": [
    "try:\n",
    "    a = 10/0\n",
    "    print(a)\n",
    "except ZeroDivisionError as e:\n",
    "    print(\"10/0 ::\",e)"
   ]
  },
  {
   "cell_type": "code",
   "execution_count": null,
   "id": "592cbe69-61da-4956-9502-b6bea52a8e0b",
   "metadata": {},
   "outputs": [],
   "source": [
    "Q4. Explain with an example:\n",
    "\n",
    "1.try and else\n",
    "2.finally\n",
    "3.raise"
   ]
  },
  {
   "cell_type": "code",
   "execution_count": 4,
   "id": "720ad2aa-6732-4593-beb0-e2f554c48512",
   "metadata": {},
   "outputs": [
    {
     "name": "stdout",
     "output_type": "stream",
     "text": [
      "when try gets excuted successfully\n"
     ]
    }
   ],
   "source": [
    "# 1. try and else\n",
    "\n",
    "try:\n",
    "    a=4/2\n",
    "except ZeroDivisionError as e:\n",
    "    print(e)\n",
    "else:\n",
    "    print(\"when try gets excuted successfully\")"
   ]
  },
  {
   "cell_type": "code",
   "execution_count": 5,
   "id": "e6348bc6-dae2-4ce2-8505-a3903cd79338",
   "metadata": {},
   "outputs": [
    {
     "name": "stdout",
     "output_type": "stream",
     "text": [
      "division by zero\n",
      "get excuted if try excute or not\n"
     ]
    }
   ],
   "source": [
    "# finally\n",
    "\n",
    "try:\n",
    "    a=4/0\n",
    "except ZeroDivisionError as e:\n",
    "    print(e)\n",
    "finally:\n",
    "    print('get excuted if try excute or not')"
   ]
  },
  {
   "cell_type": "code",
   "execution_count": 6,
   "id": "f08b0660-c6e2-4e39-915b-5d2e6fd4777d",
   "metadata": {},
   "outputs": [
    {
     "ename": "Exception",
     "evalue": "The number shouldn't be an odd integer",
     "output_type": "error",
     "traceback": [
      "\u001b[0;31m---------------------------------------------------------------------------\u001b[0m",
      "\u001b[0;31mException\u001b[0m                                 Traceback (most recent call last)",
      "Cell \u001b[0;32mIn[6], line 6\u001b[0m\n\u001b[1;32m      4\u001b[0m a \u001b[38;5;241m=\u001b[39m \u001b[38;5;241m5\u001b[39m\n\u001b[1;32m      5\u001b[0m \u001b[38;5;28;01mif\u001b[39;00m a \u001b[38;5;241m%\u001b[39m \u001b[38;5;241m2\u001b[39m \u001b[38;5;241m!=\u001b[39m \u001b[38;5;241m0\u001b[39m:\n\u001b[0;32m----> 6\u001b[0m \t\u001b[38;5;28;01mraise\u001b[39;00m \u001b[38;5;167;01mException\u001b[39;00m(\u001b[38;5;124m\"\u001b[39m\u001b[38;5;124mThe number shouldn\u001b[39m\u001b[38;5;124m'\u001b[39m\u001b[38;5;124mt be an odd integer\u001b[39m\u001b[38;5;124m\"\u001b[39m)\n\u001b[1;32m      7\u001b[0m \u001b[38;5;28mprint\u001b[39m(\u001b[38;5;124m\"\u001b[39m\u001b[38;5;124mDone !!\u001b[39m\u001b[38;5;124m\"\u001b[39m)\n\u001b[1;32m      9\u001b[0m \u001b[38;5;66;03m# if a=4(any even) then (Done !!) will be printed.\u001b[39;00m\n",
      "\u001b[0;31mException\u001b[0m: The number shouldn't be an odd integer"
     ]
    }
   ],
   "source": [
    "# raise\n",
    "\n",
    "# The raise keyword raises an error and stops the control flow of the program.\n",
    "a = 5\n",
    "if a % 2 != 0:\n",
    "\traise Exception(\"The number shouldn't be an odd integer\")\n",
    "print(\"Done !!\")\n",
    "\n",
    "# if a=4(any even) then (Done !!) will be printed."
   ]
  },
  {
   "cell_type": "code",
   "execution_count": 8,
   "id": "d80c652b-89d0-4755-8490-1d5a50a28b98",
   "metadata": {},
   "outputs": [
    {
     "name": "stdout",
     "output_type": "stream",
     "text": [
      "The number shouldn't be an odd integer \n"
     ]
    }
   ],
   "source": [
    "# Another example of raise \n",
    "try:\n",
    "    a = 5\n",
    "    if a % 2 != 0:\n",
    "        raise ZeroDivisionError\n",
    "except ZeroDivisionError as e:\n",
    "    print(\"The number shouldn't be an odd integer\",e)"
   ]
  },
  {
   "cell_type": "code",
   "execution_count": null,
   "id": "46f2dacd-6672-4357-b813-2b25c83c1535",
   "metadata": {},
   "outputs": [],
   "source": [
    "Q5. What are Custom Exceptions in python? Why do we need Custom Exceptions? Explain with an example.\n",
    "\n",
    "--Custom Exception\n",
    "A custom exception in Python is an exception that we create ourself by defining a new class that inherits from the built-in Exception class.\n",
    "--need of custom exceptions\n",
    "Custom exceptions provide us the flexibility to add attributes and methods that are not part of a standard exception.\n"
   ]
  },
  {
   "cell_type": "code",
   "execution_count": 9,
   "id": "099f943b-acd3-475a-a8f9-75a8f76ee011",
   "metadata": {},
   "outputs": [],
   "source": [
    "# Example\n",
    "\n",
    "class validateAge(Exception):\n",
    "    def __init__(self,msg):\n",
    "        self.msg = msg"
   ]
  },
  {
   "cell_type": "code",
   "execution_count": 10,
   "id": "8f9b0bda-6614-464d-9d47-fd2fa43dee9c",
   "metadata": {},
   "outputs": [],
   "source": [
    "def takeage(age):\n",
    "    if age<0:\n",
    "        raise validateAge('less than 0 pls enter another number')\n",
    "    elif age>200:\n",
    "        raise validateAge('200!!')\n",
    "    else:\n",
    "        print('valid age !!')"
   ]
  },
  {
   "cell_type": "code",
   "execution_count": 11,
   "id": "02a72c01-265a-4ae2-ab3c-b9ddebc1b341",
   "metadata": {},
   "outputs": [
    {
     "name": "stdout",
     "output_type": "stream",
     "text": [
      "less than 0 pls enter another number\n"
     ]
    }
   ],
   "source": [
    "try:\n",
    "    age = int(-2)\n",
    "    takeage(age)\n",
    "except validateAge as e:\n",
    "    print(e)"
   ]
  },
  {
   "cell_type": "code",
   "execution_count": null,
   "id": "ed4f091a-5f41-4859-8030-f06620610286",
   "metadata": {},
   "outputs": [],
   "source": [
    "Q6. Create custom exception class. Use this class to handle an exception."
   ]
  },
  {
   "cell_type": "code",
   "execution_count": 12,
   "id": "85db2278-6f8a-4190-9c25-a21a5588ad4c",
   "metadata": {},
   "outputs": [],
   "source": [
    "# Custom exception\n",
    "\n",
    "class customException(Exception):\n",
    "    def __init__(self,msg):\n",
    "        self.msg = msg"
   ]
  },
  {
   "cell_type": "code",
   "execution_count": 13,
   "id": "08658d36-534c-408a-b7b6-69cf322380b8",
   "metadata": {},
   "outputs": [],
   "source": [
    "def takeException(var):\n",
    "    if var <= 0:\n",
    "        raise customException(\"Please enter greater number\")\n",
    "    else:\n",
    "        print(\"Done !!\")"
   ]
  },
  {
   "cell_type": "code",
   "execution_count": 14,
   "id": "54deed53-1dfa-4dd6-ba6c-dee477e45bde",
   "metadata": {},
   "outputs": [
    {
     "name": "stdout",
     "output_type": "stream",
     "text": [
      "Please enter greater number\n"
     ]
    }
   ],
   "source": [
    "try:\n",
    "    var = 0\n",
    "    takeException(var)\n",
    "except customException as e:\n",
    "    print(e)"
   ]
  },
  {
   "cell_type": "code",
   "execution_count": null,
   "id": "b77a4138-557c-4b0d-b9e6-cf00907b2d6a",
   "metadata": {},
   "outputs": [],
   "source": []
  }
 ],
 "metadata": {
  "kernelspec": {
   "display_name": "Python 3 (ipykernel)",
   "language": "python",
   "name": "python3"
  },
  "language_info": {
   "codemirror_mode": {
    "name": "ipython",
    "version": 3
   },
   "file_extension": ".py",
   "mimetype": "text/x-python",
   "name": "python",
   "nbconvert_exporter": "python",
   "pygments_lexer": "ipython3",
   "version": "3.10.8"
  }
 },
 "nbformat": 4,
 "nbformat_minor": 5
}
