{
 "cells": [
  {
   "cell_type": "code",
   "execution_count": null,
   "id": "0eb43e1c-e1ec-4956-89c9-778a3d1d05b7",
   "metadata": {},
   "outputs": [],
   "source": [
    "Q1. Which keyword is used to create a function? Create a function to return a list of odd numbers in the range of 1 to 25.\n",
    "--> def keyword is used to create a function."
   ]
  },
  {
   "cell_type": "code",
   "execution_count": 1,
   "id": "c6909735-ac79-4b6f-be9c-2c0f7708a610",
   "metadata": {},
   "outputs": [
    {
     "name": "stdout",
     "output_type": "stream",
     "text": [
      "[1, 3, 5, 7, 9, 11, 13, 15, 17, 19, 21, 23, 25]\n"
     ]
    }
   ],
   "source": [
    "# function to return a list of odd numbers in the range of 1 to 25.\n",
    "def odd_num(n):\n",
    "    l = []\n",
    "    for i in range(1,n+1,1):\n",
    "        if i%2!=0:\n",
    "            l.append(i)\n",
    "    return l\n",
    "n = 25\n",
    "ans = odd_num(n)\n",
    "print(ans)"
   ]
  },
  {
   "cell_type": "code",
   "execution_count": null,
   "id": "24020989-11c7-4319-93c9-9507d030af2a",
   "metadata": {},
   "outputs": [],
   "source": [
    "Q2. Why args and kwargs is used in some functions? Create a function each for args and **kwargs to demonstrate their use.\n",
    "--> In some case we want our function to take many inputs(depends on user) for this we can not use parameters to take input in function there we use args and kwargs where args means:- number of non-keyword arguments and **kwargs means:- number of keyword arguments. Note:- args type is Tuple where as kwargs type is dictionary.\n"
   ]
  },
  {
   "cell_type": "code",
   "execution_count": 2,
   "id": "6a697a9a-c08b-47f4-930a-4499f1636e61",
   "metadata": {},
   "outputs": [
    {
     "name": "stdout",
     "output_type": "stream",
     "text": [
      "sum = 10\n",
      "sum = 15\n"
     ]
    }
   ],
   "source": [
    "# Example function for *args\n",
    "def args(*shiva):\n",
    "    sum = 0\n",
    "    for i in shiva:\n",
    "        sum += i\n",
    "    return f'sum = {sum}'\n",
    "print(args(1,2,3,4))\n",
    "print(args(1,2,3,4,5))"
   ]
  },
  {
   "cell_type": "code",
   "execution_count": 3,
   "id": "2fca98a2-0033-4587-923b-018fd42e9c18",
   "metadata": {},
   "outputs": [
    {
     "name": "stdout",
     "output_type": "stream",
     "text": [
      "user_first_name is= shiva\n",
      "user_last_name is= saurabh\n",
      "user_reg_no is= 17\n"
     ]
    }
   ],
   "source": [
    "# Example function for **kwargs\n",
    "def kwargs(**shiva):\n",
    "    for i,j in shiva.items():\n",
    "        print(f\"{i} is= {j}\")\n",
    "kwargs(user_first_name=\"shiva\",user_last_name=\"saurabh\",user_reg_no=17)"
   ]
  },
  {
   "cell_type": "code",
   "execution_count": 4,
   "id": "3ec8a621-7a1d-4990-8b3f-0e519ce92122",
   "metadata": {},
   "outputs": [
    {
     "name": "stdout",
     "output_type": "stream",
     "text": [
      "user_first_name is= shiva\n",
      "user_last_name is= saurabh\n",
      "user_reg_no is= 17\n",
      "user_mob is= 786786\n"
     ]
    }
   ],
   "source": [
    "# adding one more keyword argument to the function\n",
    "kwargs(user_first_name=\"shiva\",user_last_name=\"saurabh\",user_reg_no=17,user_mob=786786)"
   ]
  },
  {
   "cell_type": "code",
   "execution_count": null,
   "id": "e9aae5b9-fcef-4607-a09c-64b465e117a5",
   "metadata": {},
   "outputs": [],
   "source": [
    "Q3. What is an iterator in python? Name the method used to initialise the iterator object and the method used for iteration. Use these methods to print the first five elements of the given list [2, 4, 6, 8, 10, 12, 14, 16, 18, 20].\n",
    "-> In python iterator is an object,which implements the iteration protocol.\n",
    "\n",
    "--> iterators give one element at a time.\n",
    "\n",
    "--> iterator initialise by iter() and next() is used for iteration.\n",
    "\n",
    "example:s = \"shiva\"\n",
    "        s1 = iter(s)"
   ]
  },
  {
   "cell_type": "code",
   "execution_count": 5,
   "id": "d6e47150-ed22-4bb4-a49f-0f60e0268a7f",
   "metadata": {},
   "outputs": [
    {
     "name": "stdout",
     "output_type": "stream",
     "text": [
      "2\n",
      "4\n",
      "6\n",
      "8\n",
      "10\n"
     ]
    }
   ],
   "source": [
    "# Use these methods to print the first five elements of the given list [2, 4, 6, 8, 10, 12, 14, 16, 18, 20].\n",
    "list = [2, 4, 6, 8, 10, 12, 14, 16, 18, 20]\n",
    "l = iter(list)\n",
    "for i in range(5):\n",
    "    print(next(l))"
   ]
  },
  {
   "cell_type": "code",
   "execution_count": null,
   "id": "9f31180d-9b2e-4fa8-b123-b1bd6ab49045",
   "metadata": {},
   "outputs": [],
   "source": [
    "Q4. What is a generator function in python? Why yield keyword is used? Give an example of a generator function.\n",
    "-> Python's generator functions are used to create iterators which can be traversed like list, tuple and return a traversal object.\n",
    "\n",
    "--> It helps to transverse all the items one at a time present in the iterator.\n",
    "\n",
    "--> difference between generator function and normal function is we use 'return' to return values and in generator we use 'yield' to excute iterator.\n",
    "\n",
    "        ##yield keyword\n",
    "        --> Yield keyword is used to return from the function without destroying the state of a local variable.\n",
    "    "
   ]
  },
  {
   "cell_type": "code",
   "execution_count": 7,
   "id": "1fcca555-c775-47f5-b2a5-b43316fd9412",
   "metadata": {},
   "outputs": [],
   "source": [
    "# Give an example of a generator function.\n",
    "def shiva_generator():\n",
    "    print('First item')\n",
    "    yield 1\n",
    "\n",
    "    print('Second item')\n",
    "    yield 2\n",
    "\n",
    "    print('Last item')\n",
    "    yield 3"
   ]
  },
  {
   "cell_type": "code",
   "execution_count": 8,
   "id": "dc419495-9645-40b9-b4d7-b49804e9f91e",
   "metadata": {},
   "outputs": [],
   "source": [
    "shiva = shiva_generator()"
   ]
  },
  {
   "cell_type": "code",
   "execution_count": 9,
   "id": "40809ddf-5812-484d-9cc1-b0b00ea287a4",
   "metadata": {},
   "outputs": [
    {
     "name": "stdout",
     "output_type": "stream",
     "text": [
      "First item\n"
     ]
    },
    {
     "data": {
      "text/plain": [
       "1"
      ]
     },
     "execution_count": 9,
     "metadata": {},
     "output_type": "execute_result"
    }
   ],
   "source": [
    "next(shiva)"
   ]
  },
  {
   "cell_type": "code",
   "execution_count": 10,
   "id": "fe41dd4a-5935-4374-a3c7-8fd09fd4347f",
   "metadata": {},
   "outputs": [
    {
     "name": "stdout",
     "output_type": "stream",
     "text": [
      "Second item\n"
     ]
    },
    {
     "data": {
      "text/plain": [
       "2"
      ]
     },
     "execution_count": 10,
     "metadata": {},
     "output_type": "execute_result"
    }
   ],
   "source": [
    "next(shiva)"
   ]
  },
  {
   "cell_type": "code",
   "execution_count": 11,
   "id": "2706dfac-708a-432b-b877-5baa919aec20",
   "metadata": {},
   "outputs": [
    {
     "name": "stdout",
     "output_type": "stream",
     "text": [
      "Last item\n"
     ]
    },
    {
     "data": {
      "text/plain": [
       "3"
      ]
     },
     "execution_count": 11,
     "metadata": {},
     "output_type": "execute_result"
    }
   ],
   "source": [
    "next(shiva)"
   ]
  },
  {
   "cell_type": "code",
   "execution_count": null,
   "id": "b40155d1-5b06-449a-ae86-ae1f7faff5ed",
   "metadata": {},
   "outputs": [],
   "source": [
    "Q5. Create a generator function for prime numbers less than 1000. Use the next() method to print the first 20 prime numbers."
   ]
  },
  {
   "cell_type": "code",
   "execution_count": 12,
   "id": "381b9339-3697-47b3-b8c9-a02079036198",
   "metadata": {},
   "outputs": [],
   "source": [
    "def prime_num():\n",
    "    for num in range(2,1001):\n",
    "        if num > 1:\n",
    "            for i in range(2, num):\n",
    "                if (num % i) == 0:\n",
    "                    break\n",
    "            else:\n",
    "                yield num"
   ]
  },
  {
   "cell_type": "code",
   "execution_count": 13,
   "id": "70179280-d987-403d-b37a-3744c29fb2b2",
   "metadata": {},
   "outputs": [],
   "source": [
    "first_20 = prime_num()"
   ]
  },
  {
   "cell_type": "code",
   "execution_count": 14,
   "id": "c86fe396-9579-46fa-977d-9b53a2f82074",
   "metadata": {},
   "outputs": [
    {
     "name": "stdout",
     "output_type": "stream",
     "text": [
      "2\n",
      "3\n",
      "5\n",
      "7\n",
      "11\n",
      "13\n",
      "17\n",
      "19\n",
      "23\n",
      "29\n",
      "31\n",
      "37\n",
      "41\n",
      "43\n",
      "47\n",
      "53\n",
      "59\n",
      "61\n",
      "67\n",
      "71\n"
     ]
    }
   ],
   "source": [
    "for i in range(20):\n",
    "    print(next(first_20))"
   ]
  },
  {
   "cell_type": "code",
   "execution_count": null,
   "id": "854e756e-9d93-4c67-9221-a0d8ba1170b2",
   "metadata": {},
   "outputs": [],
   "source": [
    "Q6. Write a python program to print the first 10 Fibonacci numbers using a while loop."
   ]
  },
  {
   "cell_type": "code",
   "execution_count": 15,
   "id": "5f0e7af4-a856-4321-b2ea-4523c71b72c3",
   "metadata": {},
   "outputs": [
    {
     "name": "stdout",
     "output_type": "stream",
     "text": [
      "0\n",
      "1\n",
      "1\n",
      "2\n",
      "3\n",
      "5\n",
      "8\n",
      "13\n",
      "21\n",
      "34\n"
     ]
    }
   ],
   "source": [
    "n=10\n",
    "counter = 1\n",
    "a,b=0,1\n",
    "while n>=counter:\n",
    "    print(a)\n",
    "    c = a+b\n",
    "    a = b\n",
    "    b = c\n",
    "    counter+=1"
   ]
  },
  {
   "cell_type": "code",
   "execution_count": null,
   "id": "76e31e7a-c8ca-4165-9fad-8b2b5bda311f",
   "metadata": {},
   "outputs": [],
   "source": [
    "Q7. Write a List Comprehension to iterate through the given string: ‘pwskills’. Expected output: ['p', 'w', 's', 'k', 'i', 'l', 'l', 's']"
   ]
  },
  {
   "cell_type": "code",
   "execution_count": 16,
   "id": "3b664359-3823-483e-9e9a-6b27989b5164",
   "metadata": {},
   "outputs": [
    {
     "data": {
      "text/plain": [
       "['p', 'w', 's', 'k', 'i', 'l', 'l', 's']"
      ]
     },
     "execution_count": 16,
     "metadata": {},
     "output_type": "execute_result"
    }
   ],
   "source": [
    "string=\"pwskills\"\n",
    "[i for i in string]"
   ]
  },
  {
   "cell_type": "code",
   "execution_count": null,
   "id": "b833b4b0-4c1a-4bdd-bd7d-1d4879f185bf",
   "metadata": {},
   "outputs": [],
   "source": [
    "Q8. Write a python program to check whether a given number is Palindrome or not using a while loop."
   ]
  },
  {
   "cell_type": "code",
   "execution_count": 17,
   "id": "b238a3f8-49e0-4c06-89f4-bb26288cd32e",
   "metadata": {},
   "outputs": [
    {
     "name": "stdin",
     "output_type": "stream",
     "text": [
      "Enter a number: 121\n"
     ]
    },
    {
     "name": "stdout",
     "output_type": "stream",
     "text": [
      "121 is palindrome!\n"
     ]
    }
   ],
   "source": [
    "num = int(input(\"Enter a number:\"))\n",
    "temp = num\n",
    "rev = 0\n",
    "while num>0 :\n",
    "    digit = num%10\n",
    "    rev = rev*10+digit\n",
    "    num = num//10\n",
    "if(temp == rev):\n",
    "    print(f\"{temp} is palindrome!\")\n",
    "else:\n",
    "    print(f\"{temp} is not a palindrome!\")\n"
   ]
  },
  {
   "cell_type": "code",
   "execution_count": null,
   "id": "5a7b2442-8d20-4527-99e0-585725d66c4c",
   "metadata": {},
   "outputs": [],
   "source": [
    "Q9. Write a code to print odd numbers from 1 to 100 using list comprehension. Note: Use a list comprehension to create a list from 1 to 100 and use another List comprehension to filter out odd numbers."
   ]
  },
  {
   "cell_type": "code",
   "execution_count": 18,
   "id": "07ab1ac2-b16a-4147-b9d0-a532baba131e",
   "metadata": {},
   "outputs": [
    {
     "data": {
      "text/plain": [
       "[1,\n",
       " 3,\n",
       " 5,\n",
       " 7,\n",
       " 9,\n",
       " 11,\n",
       " 13,\n",
       " 15,\n",
       " 17,\n",
       " 19,\n",
       " 21,\n",
       " 23,\n",
       " 25,\n",
       " 27,\n",
       " 29,\n",
       " 31,\n",
       " 33,\n",
       " 35,\n",
       " 37,\n",
       " 39,\n",
       " 41,\n",
       " 43,\n",
       " 45,\n",
       " 47,\n",
       " 49,\n",
       " 51,\n",
       " 53,\n",
       " 55,\n",
       " 57,\n",
       " 59,\n",
       " 61,\n",
       " 63,\n",
       " 65,\n",
       " 67,\n",
       " 69,\n",
       " 71,\n",
       " 73,\n",
       " 75,\n",
       " 77,\n",
       " 79,\n",
       " 81,\n",
       " 83,\n",
       " 85,\n",
       " 87,\n",
       " 89,\n",
       " 91,\n",
       " 93,\n",
       " 95,\n",
       " 97,\n",
       " 99]"
      ]
     },
     "execution_count": 18,
     "metadata": {},
     "output_type": "execute_result"
    }
   ],
   "source": [
    "num = [i for i in range(1,101,1)]\n",
    "odd_num = [i for i in num if i%2!=0]\n",
    "odd_num"
   ]
  },
  {
   "cell_type": "code",
   "execution_count": null,
   "id": "a94fbb0a-e78e-4f67-86e3-ce844e233615",
   "metadata": {},
   "outputs": [],
   "source": []
  }
 ],
 "metadata": {
  "kernelspec": {
   "display_name": "Python 3 (ipykernel)",
   "language": "python",
   "name": "python3"
  },
  "language_info": {
   "codemirror_mode": {
    "name": "ipython",
    "version": 3
   },
   "file_extension": ".py",
   "mimetype": "text/x-python",
   "name": "python",
   "nbconvert_exporter": "python",
   "pygments_lexer": "ipython3",
   "version": "3.10.8"
  }
 },
 "nbformat": 4,
 "nbformat_minor": 5
}
