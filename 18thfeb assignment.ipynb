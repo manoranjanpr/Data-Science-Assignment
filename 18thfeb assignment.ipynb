{
 "cells": [
  {
   "cell_type": "code",
   "execution_count": null,
   "id": "86e7c728-5ea1-49ad-bf42-49a0f41aeda9",
   "metadata": {},
   "outputs": [],
   "source": [
    "Q1. What is an API? Give an example, where an API is used in real life.\n",
    "\n",
    "--> APIs are mechanisms that enable two software components to communicate with each other using a set of definitions and protocols.\n",
    "\n",
    "For example, the weather bureau's software system contains daily weather data. The weather app on your phone “talks” to this system via APIs and shows you daily weather updates on your phone.\n",
    "\n",
    "example:- Google map + Uber\n",
    "Google Maps is using Uber’s API to request information by sending a HTTP request function with the start and end points of the ride.\n",
    "\n",
    "Uber’s API then sends information back such as how many cars are available, where are they currently located, and the costs for the various ride options.\n",
    "\n",
    "This information is then processed by Google Maps and is available to the user directly linking them the the Uber app if it is previously downloaded."
   ]
  },
  {
   "cell_type": "code",
   "execution_count": null,
   "id": "a50fe4d0-34e3-4a65-96a7-db9281bfa910",
   "metadata": {},
   "outputs": [],
   "source": [
    "Q2. Give advantages and disadvantages of using API.\n",
    "\n",
    "--> Advantage:-\n",
    "\n",
    "an integration:- An example of an integration is to push notifications from your product (such as CRM, Helpdesk) to a messaging tool such as Slack. In this way, if your customer uses Slack they can receive notifications without having to login directly to your system or check emails.\n",
    "\n",
    "new functionality:- In the early days of Twitter, some of the most popular Twitter clients were produced by third parties using the Twitter API. Twitter and its users benefited from the new functionality that was undertaken by other companies.\n",
    "\n",
    "--> Disadvantages:-\n",
    "\n",
    "Cost:- Providing an API is expensive in terms of development time, ongoing maintenance, providing API documentation on your website and providing support to users of your API.\n",
    "\n",
    "Security exposure. Adding an API adds another attack surface to your website"
   ]
  },
  {
   "cell_type": "code",
   "execution_count": null,
   "id": "caf913db-8aea-4501-ad7d-662ba5666b52",
   "metadata": {},
   "outputs": [],
   "source": [
    "Q3. What is a Web API? Differentiate between API and Web API.\n",
    "\n",
    "--> Web API is an API as the name suggests, it can be accessed over the web using the HTTP protocol. It is a framework that helps you to create and develop HTTP based RESTFUL services. The web API can be developed by using different technologies such as java, ASP.NET, etc.\n",
    "\n",
    "Differentiate between API and Web API.\n",
    "\n",
    "A Web API services are preferable over other services to use with a native application that does not support SOAP but require web services.\n",
    "\n",
    "For creating resource-oriented services, the web API services are the best to choose. By using HTTP or restful service, these services are established.\n",
    "\n",
    "If you want good performance and fast development of services, the web API services are very helpful.\n",
    "\n",
    "For developing light weighted and maintainable web services, web API services are really helpful to develop that service. It supports any text pattern like JSON, XML etc."
   ]
  },
  {
   "cell_type": "code",
   "execution_count": null,
   "id": "27b8ea8b-0965-472f-9a40-a32e791d2d0f",
   "metadata": {},
   "outputs": [],
   "source": [
    "Q4.Explain REST and SOAP Architecture. Mention shortcomings of SOAP.\n",
    "\n",
    "--> REST Architecture\n",
    "\n",
    "REST is a software architectural style that defines the set of rules to be used for creating web services. Web services which follow the REST architectural style are known as RESTful web services. It allows requesting systems to access and manipulate web resources by using a uniform and predefined set of rules.\n",
    "--> SOAP Architecture\n",
    "\n",
    "The SOAP web services architecture is based on interactions between three components: a service provider, a service requester, and an optional service registry.\n",
    "--> Shortcomings of SOAP\n",
    "\n",
    "SOAP only uses XML. It doesn’t take other formats like JSON into consideration.\n",
    "\n",
    "There is a high possibility of coupling between client and server as SOAP is based on contract.\n",
    "\n",
    "Since it uses XML format, SOAP is considered to be a slow platform because the payload is large for a simple string message.\n",
    "\n",
    "Any change in server contract is reflected in client stub classes.\n",
    "\n",
    "SOAP is hard to test in browsers.\n",
    "\n",
    "SOAP clients do not hold any stateful references to remote objects."
   ]
  },
  {
   "cell_type": "code",
   "execution_count": null,
   "id": "b46afb6d-ab98-474a-9dd4-0ce9e6b87acb",
   "metadata": {},
   "outputs": [],
   "source": [
    "Q5. Differentiate between REST and SOAP.\n",
    "\n",
    "Relies on SOAP (Simple Object Access Protocol)\n",
    "\n",
    "Relies on REST (Representational State Transfer) architecture using HTTP.\n",
    "\n",
    "Transports data in standard XML format.\n",
    "\n",
    "Generally transports data in JSON. It is based on URI. Because REST follows stateless model, REST does not enforces message format as XML or JSON etc.\n",
    "\n",
    "Because it is XML based and relies on SOAP, it works with WSDL\n",
    "\n",
    "It works with GET, POST, PUT, DELETE"
   ]
  }
 ],
 "metadata": {
  "kernelspec": {
   "display_name": "Python 3 (ipykernel)",
   "language": "python",
   "name": "python3"
  },
  "language_info": {
   "codemirror_mode": {
    "name": "ipython",
    "version": 3
   },
   "file_extension": ".py",
   "mimetype": "text/x-python",
   "name": "python",
   "nbconvert_exporter": "python",
   "pygments_lexer": "ipython3",
   "version": "3.10.8"
  }
 },
 "nbformat": 4,
 "nbformat_minor": 5
}
