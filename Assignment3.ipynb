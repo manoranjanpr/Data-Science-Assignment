{
 "cells": [
  {
   "cell_type": "code",
   "execution_count": null,
   "id": "f39d5375-d876-4d22-8614-05a686246c15",
   "metadata": {},
   "outputs": [],
   "source": [
    "Q1. Explain with an example each when to use a for loop and a while loop.\n",
    "-> We use for loop when we know how many steps we need to reach the expected result."
   ]
  },
  {
   "cell_type": "code",
   "execution_count": 1,
   "id": "ec6c6898-7735-4a53-a915-cc1736b63bd7",
   "metadata": {},
   "outputs": [
    {
     "name": "stdout",
     "output_type": "stream",
     "text": [
      "1 2 3 4 5 6 7 8 9 10 "
     ]
    }
   ],
   "source": [
    "#example:-\n",
    "for i in range(1,11):\n",
    "    print(i,end=\" \")"
   ]
  },
  {
   "cell_type": "code",
   "execution_count": null,
   "id": "4cf9c88c-5f0e-40ea-a24c-93eb40cdcac7",
   "metadata": {},
   "outputs": [],
   "source": [
    "--> And we use while loop when we just know a condition, so we run the loop till the condition is valid."
   ]
  },
  {
   "cell_type": "code",
   "execution_count": 2,
   "id": "531061c7-b22b-49cc-88b5-b636b8a74115",
   "metadata": {},
   "outputs": [
    {
     "name": "stdout",
     "output_type": "stream",
     "text": [
      "10 9 8 7 6 5 4 3 2 1 "
     ]
    }
   ],
   "source": [
    "#example\n",
    "n=10\n",
    "while n>0:\n",
    "    print(n,end=\" \")\n",
    "    n -= 1"
   ]
  },
  {
   "cell_type": "code",
   "execution_count": null,
   "id": "a9dfdf3c-26a1-4c69-82df-2872fd5f4bcf",
   "metadata": {},
   "outputs": [],
   "source": [
    "Q2. Write a python program to print the sum and product of the first 10 natural numbers using for and while loop."
   ]
  },
  {
   "cell_type": "code",
   "execution_count": 3,
   "id": "6ee2a859-10c5-413b-8c3c-dd3356fbba74",
   "metadata": {},
   "outputs": [
    {
     "name": "stdout",
     "output_type": "stream",
     "text": [
      "sum = 55\n",
      "multiply = 3628800\n"
     ]
    }
   ],
   "source": [
    "#using for loop\n",
    "summation=0\n",
    "multiply=1\n",
    "for i in range(1,11):\n",
    "    summation += i\n",
    "    multiply *= i\n",
    "print(\"sum =\",summation)\n",
    "print(\"multiply =\",multiply)"
   ]
  },
  {
   "cell_type": "code",
   "execution_count": 4,
   "id": "d19de5d8-e2c5-49b0-9abb-38f3ce648aea",
   "metadata": {},
   "outputs": [
    {
     "name": "stdout",
     "output_type": "stream",
     "text": [
      "sum = 55\n",
      "multiply = 3628800\n"
     ]
    }
   ],
   "source": [
    "#using while loop\n",
    "summation = 0\n",
    "multiply = 1\n",
    "n=10\n",
    "while n>0:\n",
    "    summation += n\n",
    "    multiply *= n\n",
    "    n -= 1\n",
    "print(\"sum =\",summation)\n",
    "print(\"multiply =\",multiply)"
   ]
  },
  {
   "cell_type": "code",
   "execution_count": null,
   "id": "e86e29d1-8e95-4450-b2cf-d1b3fc7c402a",
   "metadata": {},
   "outputs": [],
   "source": [
    "Q3. Create a python program to compute the electricity bill for a household. The per-unit charges in rupees are as follows: For the first 100 units, the user will be charged Rs. 4.5 per unit, for the next 100 units, the user will be charged Rs. 6 per unit, and for the next 100 units, the user will be charged Rs. 10 per unit, After 300 units and above the user will be charged Rs. 20 per unit. You are required to take the units of electricity consumed in a month from the user as input. Your program must pass this test case: when the unit of electricity consumed by the user in a month is 310, the total electricity bill should be 2250.\n",
    "\n",
    "ele_unit = int(input(\"enter unit consumed:- \"))"
   ]
  },
  {
   "cell_type": "code",
   "execution_count": 5,
   "id": "5868ba2a-b003-4a6d-adda-eb2246c1db7a",
   "metadata": {},
   "outputs": [
    {
     "name": "stdin",
     "output_type": "stream",
     "text": [
      "enter unit consumed:-  310\n"
     ]
    },
    {
     "name": "stdout",
     "output_type": "stream",
     "text": [
      "2250.0\n"
     ]
    }
   ],
   "source": [
    "ele_unit = int(input(\"enter unit consumed:- \"))\n",
    "if ele_unit >300:\n",
    "    after_300 = (ele_unit-300)*20\n",
    "    first_100 = 100*4.5\n",
    "    sec_100 = 100*6\n",
    "    third_100 = 100*10\n",
    "    print(first_100+sec_100+third_100+after_300)\n",
    "else:\n",
    "    if ele_unit<=300 or ele_unit>200:\n",
    "        first_100 = 100*4.5\n",
    "        sec_100 = 100*6\n",
    "        third_100 = (ele_unit-200)*10\n",
    "        print(first_100+sec_100+third_100)\n",
    "    elif ele_unit<=200 or ele_unit>100:\n",
    "        first_100 = 100*4.5\n",
    "        sec_100 = (ele_unit-100)*6\n",
    "        print(sum(first_100,sec_100))\n",
    "    else:\n",
    "        fist_100 = ele_unit*4.5\n",
    "        print(first_100)\n"
   ]
  },
  {
   "cell_type": "code",
   "execution_count": null,
   "id": "6df58cf6-0e8d-4fd9-b101-e3418e31f26a",
   "metadata": {},
   "outputs": [],
   "source": [
    "Q4. Create a list of numbers from 1 to 100. Use for loop and while loop to calculate the cube of each number and if the cube of that number is divisible by 4 or 5 then append that number in a list and print that list.\n",
    "-> Using For Loop"
   ]
  },
  {
   "cell_type": "code",
   "execution_count": 6,
   "id": "7ae6fec5-b8b1-407a-b6f2-4f02cc0e40dc",
   "metadata": {},
   "outputs": [
    {
     "name": "stdout",
     "output_type": "stream",
     "text": [
      "[2, 4, 5, 6, 8, 10, 12, 14, 15, 16, 18, 20, 22, 24, 25, 26, 28, 30, 32, 34, 35, 36, 38, 40, 42, 44, 45, 46, 48, 50, 52, 54, 55, 56, 58, 60, 62, 64, 65, 66, 68, 70, 72, 74, 75, 76, 78, 80, 82, 84, 85, 86, 88, 90, 92, 94, 95, 96, 98, 100]\n"
     ]
    }
   ],
   "source": [
    "ans_list = []\n",
    "for i in range(1,101):\n",
    "    n = i*i*i\n",
    "    if n%4==0 or n%5==0:\n",
    "        ans_list.append(i)\n",
    "print(ans_list)"
   ]
  },
  {
   "cell_type": "code",
   "execution_count": null,
   "id": "bf9a4bfc-69a5-459f-9096-8975374329e7",
   "metadata": {},
   "outputs": [],
   "source": [
    "-> Using While Loop"
   ]
  },
  {
   "cell_type": "code",
   "execution_count": 7,
   "id": "9fc3fc9e-ee02-4345-8cde-4883a08ddba6",
   "metadata": {},
   "outputs": [
    {
     "name": "stdout",
     "output_type": "stream",
     "text": [
      "[2, 4, 5, 6, 8, 10, 12, 14, 15, 16, 18, 20, 22, 24, 25, 26, 28, 30, 32, 34, 35, 36, 38, 40, 42, 44, 45, 46, 48, 50, 52, 54, 55, 56, 58, 60, 62, 64, 65, 66, 68, 70, 72, 74, 75, 76, 78, 80, 82, 84, 85, 86, 88, 90, 92, 94, 95, 96, 98, 100]\n"
     ]
    }
   ],
   "source": [
    "ans_list = []\n",
    "n = 1\n",
    "while n<=100:\n",
    "    p = n*n*n\n",
    "    if p%4==0 or p%5==0:\n",
    "        ans_list.append(n)\n",
    "    n += 1\n",
    "print(ans_list)"
   ]
  },
  {
   "cell_type": "code",
   "execution_count": null,
   "id": "6ea25fba-c006-4c32-b468-1f43b35cc406",
   "metadata": {},
   "outputs": [],
   "source": [
    "Q5. Write a program to filter count vowels in the below-given string. string = \"I want to become a data scientist\""
   ]
  },
  {
   "cell_type": "code",
   "execution_count": 8,
   "id": "f3fc691a-777c-4355-aaad-cd07ba5a356e",
   "metadata": {},
   "outputs": [
    {
     "name": "stdout",
     "output_type": "stream",
     "text": [
      "Total vowels is = 12\n"
     ]
    }
   ],
   "source": [
    "string = \"I want to become a data scientist\"\n",
    "vowels = [\"a\",\"e\",\"i\",\"o\",\"u\"]\n",
    "count = 0\n",
    "for i in string.lower():\n",
    "    if i in vowels:\n",
    "        count += 1\n",
    "print(\"Total vowels is =\",count)"
   ]
  },
  {
   "cell_type": "code",
   "execution_count": null,
   "id": "77af6bca-7d0c-47eb-a1bb-86b5f8ecd27b",
   "metadata": {},
   "outputs": [],
   "source": []
  }
 ],
 "metadata": {
  "kernelspec": {
   "display_name": "Python 3 (ipykernel)",
   "language": "python",
   "name": "python3"
  },
  "language_info": {
   "codemirror_mode": {
    "name": "ipython",
    "version": 3
   },
   "file_extension": ".py",
   "mimetype": "text/x-python",
   "name": "python",
   "nbconvert_exporter": "python",
   "pygments_lexer": "ipython3",
   "version": "3.10.8"
  }
 },
 "nbformat": 4,
 "nbformat_minor": 5
}
